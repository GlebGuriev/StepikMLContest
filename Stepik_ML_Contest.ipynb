{
 "cells": [
  {
   "cell_type": "markdown",
   "id": "b2bd0c5b-a834-4ac8-9156-5f84bb9d52af",
   "metadata": {
    "tags": []
   },
   "source": [
    "# Подготовим данные для тренировки модели\n",
    "\n",
    "Нам даны две таблицы: в первой собраны данные о действиях пользователей, во второй - данные о попытках пользователей решить задания. Импортируем библиотеку Pandas и посмотрим на формат наших данных:"
   ]
  },
  {
   "cell_type": "code",
   "execution_count": 1,
   "id": "bf46c318-adeb-4c9e-a45e-19c81ef809b7",
   "metadata": {},
   "outputs": [],
   "source": [
    "import pandas as pd\n",
    "events_data = pd.read_csv('datasets/event_data_train.csv')\n",
    "submissions_data = pd.read_csv('datasets/submissions_data_train.csv')"
   ]
  },
  {
   "cell_type": "code",
   "execution_count": 2,
   "id": "fb871ad5-517c-4a4c-a82b-9a1dc0a1d5c9",
   "metadata": {},
   "outputs": [
    {
     "data": {
      "text/html": [
       "<div>\n",
       "<style scoped>\n",
       "    .dataframe tbody tr th:only-of-type {\n",
       "        vertical-align: middle;\n",
       "    }\n",
       "\n",
       "    .dataframe tbody tr th {\n",
       "        vertical-align: top;\n",
       "    }\n",
       "\n",
       "    .dataframe thead th {\n",
       "        text-align: right;\n",
       "    }\n",
       "</style>\n",
       "<table border=\"1\" class=\"dataframe\">\n",
       "  <thead>\n",
       "    <tr style=\"text-align: right;\">\n",
       "      <th></th>\n",
       "      <th>step_id</th>\n",
       "      <th>timestamp</th>\n",
       "      <th>action</th>\n",
       "      <th>user_id</th>\n",
       "    </tr>\n",
       "  </thead>\n",
       "  <tbody>\n",
       "    <tr>\n",
       "      <th>0</th>\n",
       "      <td>32815</td>\n",
       "      <td>1434340848</td>\n",
       "      <td>viewed</td>\n",
       "      <td>17632</td>\n",
       "    </tr>\n",
       "    <tr>\n",
       "      <th>1</th>\n",
       "      <td>32815</td>\n",
       "      <td>1434340848</td>\n",
       "      <td>passed</td>\n",
       "      <td>17632</td>\n",
       "    </tr>\n",
       "    <tr>\n",
       "      <th>2</th>\n",
       "      <td>32815</td>\n",
       "      <td>1434340848</td>\n",
       "      <td>discovered</td>\n",
       "      <td>17632</td>\n",
       "    </tr>\n",
       "    <tr>\n",
       "      <th>3</th>\n",
       "      <td>32811</td>\n",
       "      <td>1434340895</td>\n",
       "      <td>discovered</td>\n",
       "      <td>17632</td>\n",
       "    </tr>\n",
       "    <tr>\n",
       "      <th>4</th>\n",
       "      <td>32811</td>\n",
       "      <td>1434340895</td>\n",
       "      <td>viewed</td>\n",
       "      <td>17632</td>\n",
       "    </tr>\n",
       "  </tbody>\n",
       "</table>\n",
       "</div>"
      ],
      "text/plain": [
       "   step_id   timestamp      action  user_id\n",
       "0    32815  1434340848      viewed    17632\n",
       "1    32815  1434340848      passed    17632\n",
       "2    32815  1434340848  discovered    17632\n",
       "3    32811  1434340895  discovered    17632\n",
       "4    32811  1434340895      viewed    17632"
      ]
     },
     "execution_count": 2,
     "metadata": {},
     "output_type": "execute_result"
    }
   ],
   "source": [
    "events_data.head()"
   ]
  },
  {
   "cell_type": "markdown",
   "id": "1637d005-1093-4d3a-bc88-9d2ffffa55e7",
   "metadata": {},
   "source": [
    "1. step_id - id стэпа\n",
    "2. user_id - анонимизированный id юзера\n",
    "3. timestamp - время наступления события в формате unix date\n",
    "4. action - событие, возможные значения: \n",
    "\n",
    "* discovered - пользователь перешел на стэп\n",
    "* viewed - просмотр шага,\n",
    "* started_attempt - начало попытки решить шаг\n",
    "* passed - удачное решение практического шага"
   ]
  },
  {
   "cell_type": "code",
   "execution_count": 3,
   "id": "01754612-678c-4e06-b5d3-26d7f36b4ecc",
   "metadata": {},
   "outputs": [
    {
     "data": {
      "text/html": [
       "<div>\n",
       "<style scoped>\n",
       "    .dataframe tbody tr th:only-of-type {\n",
       "        vertical-align: middle;\n",
       "    }\n",
       "\n",
       "    .dataframe tbody tr th {\n",
       "        vertical-align: top;\n",
       "    }\n",
       "\n",
       "    .dataframe thead th {\n",
       "        text-align: right;\n",
       "    }\n",
       "</style>\n",
       "<table border=\"1\" class=\"dataframe\">\n",
       "  <thead>\n",
       "    <tr style=\"text-align: right;\">\n",
       "      <th></th>\n",
       "      <th>step_id</th>\n",
       "      <th>timestamp</th>\n",
       "      <th>submission_status</th>\n",
       "      <th>user_id</th>\n",
       "    </tr>\n",
       "  </thead>\n",
       "  <tbody>\n",
       "    <tr>\n",
       "      <th>0</th>\n",
       "      <td>31971</td>\n",
       "      <td>1434349275</td>\n",
       "      <td>correct</td>\n",
       "      <td>15853</td>\n",
       "    </tr>\n",
       "    <tr>\n",
       "      <th>1</th>\n",
       "      <td>31972</td>\n",
       "      <td>1434348300</td>\n",
       "      <td>correct</td>\n",
       "      <td>15853</td>\n",
       "    </tr>\n",
       "    <tr>\n",
       "      <th>2</th>\n",
       "      <td>31972</td>\n",
       "      <td>1478852149</td>\n",
       "      <td>wrong</td>\n",
       "      <td>15853</td>\n",
       "    </tr>\n",
       "    <tr>\n",
       "      <th>3</th>\n",
       "      <td>31972</td>\n",
       "      <td>1478852164</td>\n",
       "      <td>correct</td>\n",
       "      <td>15853</td>\n",
       "    </tr>\n",
       "    <tr>\n",
       "      <th>4</th>\n",
       "      <td>31976</td>\n",
       "      <td>1434348123</td>\n",
       "      <td>wrong</td>\n",
       "      <td>15853</td>\n",
       "    </tr>\n",
       "  </tbody>\n",
       "</table>\n",
       "</div>"
      ],
      "text/plain": [
       "   step_id   timestamp submission_status  user_id\n",
       "0    31971  1434349275           correct    15853\n",
       "1    31972  1434348300           correct    15853\n",
       "2    31972  1478852149             wrong    15853\n",
       "3    31972  1478852164           correct    15853\n",
       "4    31976  1434348123             wrong    15853"
      ]
     },
     "execution_count": 3,
     "metadata": {},
     "output_type": "execute_result"
    }
   ],
   "source": [
    "submissions_data.head()"
   ]
  },
  {
   "cell_type": "markdown",
   "id": "3ce50ea6-6d9b-4ff0-b74d-ff1c7db0f7bb",
   "metadata": {},
   "source": [
    "1. step_id - id стэпа\n",
    "2. timestamp - время отправки решения в формате unix date\n",
    "3. submission_status - статус решения\n",
    "4. user_id - анонимизированный id юзера"
   ]
  },
  {
   "cell_type": "markdown",
   "id": "4d3b5171-d7d5-4e94-a6a7-90fc6575242b",
   "metadata": {},
   "source": [
    "Так как мы рассматриваем прогресс каждого студента в общем, а не по каждому степу, уберем колонку step_id из таблиц:"
   ]
  },
  {
   "cell_type": "code",
   "execution_count": 4,
   "id": "f7ac49df-0fbc-4694-ba9e-01fb7fb1c194",
   "metadata": {},
   "outputs": [],
   "source": [
    "events_data = events_data.drop('step_id', axis=1)\n",
    "submissions_data = submissions_data.drop('step_id', axis=1)"
   ]
  },
  {
   "cell_type": "markdown",
   "id": "980fe5fb-902a-4237-b678-5b5c7f85fe70",
   "metadata": {},
   "source": [
    "Теперь посчитаем количество различных событий и количество верных и неверных решений для каждого студента. Применим метод pivot_table к нашим таблицам:"
   ]
  },
  {
   "cell_type": "code",
   "execution_count": 5,
   "id": "59c3cca2-cf03-4528-a5b6-c3cc96b1c94b",
   "metadata": {},
   "outputs": [],
   "source": [
    "action_count = events_data.pivot_table(values='action', index='user_id', \n",
    "                                       columns='action', aggfunc='count').fillna(0)\n",
    "\n",
    "submissions_count = submissions_data.pivot_table(values='submission_status', \n",
    "                                                 index='user_id',\n",
    "                                                 columns='submission_status', \n",
    "                                                 aggfunc='count').fillna(0)"
   ]
  },
  {
   "cell_type": "markdown",
   "id": "e538fe8f-12b3-4d01-b20c-1e5c5bd20359",
   "metadata": {},
   "source": [
    "Также посчитаем такой показатель, как отношение правильных ответов ко всем совершенным попыткам:"
   ]
  },
  {
   "cell_type": "code",
   "execution_count": 6,
   "id": "066d9b54-4bb2-4d49-a944-a4722ad31a6d",
   "metadata": {},
   "outputs": [],
   "source": [
    "submissions_count['correct_ratio'] = submissions_count.correct / \\\n",
    "(submissions_count.correct + submissions_count.wrong)"
   ]
  },
  {
   "cell_type": "code",
   "execution_count": 7,
   "id": "99216f94-8c70-4620-b5e2-d033fed00110",
   "metadata": {},
   "outputs": [
    {
     "data": {
      "text/html": [
       "<div>\n",
       "<style scoped>\n",
       "    .dataframe tbody tr th:only-of-type {\n",
       "        vertical-align: middle;\n",
       "    }\n",
       "\n",
       "    .dataframe tbody tr th {\n",
       "        vertical-align: top;\n",
       "    }\n",
       "\n",
       "    .dataframe thead th {\n",
       "        text-align: right;\n",
       "    }\n",
       "</style>\n",
       "<table border=\"1\" class=\"dataframe\">\n",
       "  <thead>\n",
       "    <tr style=\"text-align: right;\">\n",
       "      <th>action</th>\n",
       "      <th>discovered</th>\n",
       "      <th>passed</th>\n",
       "      <th>started_attempt</th>\n",
       "      <th>viewed</th>\n",
       "    </tr>\n",
       "    <tr>\n",
       "      <th>user_id</th>\n",
       "      <th></th>\n",
       "      <th></th>\n",
       "      <th></th>\n",
       "      <th></th>\n",
       "    </tr>\n",
       "  </thead>\n",
       "  <tbody>\n",
       "    <tr>\n",
       "      <th>1</th>\n",
       "      <td>1.0</td>\n",
       "      <td>0.0</td>\n",
       "      <td>0.0</td>\n",
       "      <td>1.0</td>\n",
       "    </tr>\n",
       "    <tr>\n",
       "      <th>2</th>\n",
       "      <td>9.0</td>\n",
       "      <td>9.0</td>\n",
       "      <td>2.0</td>\n",
       "      <td>10.0</td>\n",
       "    </tr>\n",
       "    <tr>\n",
       "      <th>3</th>\n",
       "      <td>91.0</td>\n",
       "      <td>87.0</td>\n",
       "      <td>30.0</td>\n",
       "      <td>192.0</td>\n",
       "    </tr>\n",
       "    <tr>\n",
       "      <th>5</th>\n",
       "      <td>11.0</td>\n",
       "      <td>11.0</td>\n",
       "      <td>4.0</td>\n",
       "      <td>12.0</td>\n",
       "    </tr>\n",
       "    <tr>\n",
       "      <th>7</th>\n",
       "      <td>1.0</td>\n",
       "      <td>1.0</td>\n",
       "      <td>0.0</td>\n",
       "      <td>1.0</td>\n",
       "    </tr>\n",
       "  </tbody>\n",
       "</table>\n",
       "</div>"
      ],
      "text/plain": [
       "action   discovered  passed  started_attempt  viewed\n",
       "user_id                                             \n",
       "1               1.0     0.0              0.0     1.0\n",
       "2               9.0     9.0              2.0    10.0\n",
       "3              91.0    87.0             30.0   192.0\n",
       "5              11.0    11.0              4.0    12.0\n",
       "7               1.0     1.0              0.0     1.0"
      ]
     },
     "execution_count": 7,
     "metadata": {},
     "output_type": "execute_result"
    }
   ],
   "source": [
    "action_count.head()"
   ]
  },
  {
   "cell_type": "code",
   "execution_count": 8,
   "id": "54b8a201-1a13-4f03-bb1f-52bff4c8628f",
   "metadata": {},
   "outputs": [
    {
     "data": {
      "text/html": [
       "<div>\n",
       "<style scoped>\n",
       "    .dataframe tbody tr th:only-of-type {\n",
       "        vertical-align: middle;\n",
       "    }\n",
       "\n",
       "    .dataframe tbody tr th {\n",
       "        vertical-align: top;\n",
       "    }\n",
       "\n",
       "    .dataframe thead th {\n",
       "        text-align: right;\n",
       "    }\n",
       "</style>\n",
       "<table border=\"1\" class=\"dataframe\">\n",
       "  <thead>\n",
       "    <tr style=\"text-align: right;\">\n",
       "      <th>submission_status</th>\n",
       "      <th>correct</th>\n",
       "      <th>wrong</th>\n",
       "      <th>correct_ratio</th>\n",
       "    </tr>\n",
       "    <tr>\n",
       "      <th>user_id</th>\n",
       "      <th></th>\n",
       "      <th></th>\n",
       "      <th></th>\n",
       "    </tr>\n",
       "  </thead>\n",
       "  <tbody>\n",
       "    <tr>\n",
       "      <th>2</th>\n",
       "      <td>2.0</td>\n",
       "      <td>0.0</td>\n",
       "      <td>1.000000</td>\n",
       "    </tr>\n",
       "    <tr>\n",
       "      <th>3</th>\n",
       "      <td>29.0</td>\n",
       "      <td>23.0</td>\n",
       "      <td>0.557692</td>\n",
       "    </tr>\n",
       "    <tr>\n",
       "      <th>5</th>\n",
       "      <td>2.0</td>\n",
       "      <td>2.0</td>\n",
       "      <td>0.500000</td>\n",
       "    </tr>\n",
       "    <tr>\n",
       "      <th>8</th>\n",
       "      <td>9.0</td>\n",
       "      <td>21.0</td>\n",
       "      <td>0.300000</td>\n",
       "    </tr>\n",
       "    <tr>\n",
       "      <th>14</th>\n",
       "      <td>0.0</td>\n",
       "      <td>1.0</td>\n",
       "      <td>0.000000</td>\n",
       "    </tr>\n",
       "  </tbody>\n",
       "</table>\n",
       "</div>"
      ],
      "text/plain": [
       "submission_status  correct  wrong  correct_ratio\n",
       "user_id                                         \n",
       "2                      2.0    0.0       1.000000\n",
       "3                     29.0   23.0       0.557692\n",
       "5                      2.0    2.0       0.500000\n",
       "8                      9.0   21.0       0.300000\n",
       "14                     0.0    1.0       0.000000"
      ]
     },
     "execution_count": 8,
     "metadata": {},
     "output_type": "execute_result"
    }
   ],
   "source": [
    "submissions_count.head()"
   ]
  },
  {
   "cell_type": "markdown",
   "id": "1e0ad240-d4ba-467a-8706-4bb8e52122ab",
   "metadata": {},
   "source": [
    "Чтобы собрать все необходимые данные в одном месте, соединим две таблицы в одну:"
   ]
  },
  {
   "cell_type": "code",
   "execution_count": 9,
   "id": "ab071488-98f1-43c7-ac97-da4a06293605",
   "metadata": {},
   "outputs": [],
   "source": [
    "complete_data = action_count.join(submissions_count, \n",
    "                                  on='user_id', how='outer').fillna(0)"
   ]
  },
  {
   "cell_type": "markdown",
   "id": "c2ae2317-4c20-4ae0-ba5a-5764887b115e",
   "metadata": {},
   "source": [
    "Добавим в новую таблицу колонку, которая отображает, прошел пользователь курс или нет. По условию задачи мы считаем, что пользователь прошел курс, если он прошел как минимум 40 заданий:"
   ]
  },
  {
   "cell_type": "code",
   "execution_count": 10,
   "id": "218f2414-e210-491a-989c-28c152441366",
   "metadata": {},
   "outputs": [],
   "source": [
    "complete_data['passed_course'] = (complete_data['correct'] > 40).astype('int')"
   ]
  },
  {
   "cell_type": "code",
   "execution_count": 11,
   "id": "f6e9bc1e-996d-487a-ac5e-12dda8f71eb5",
   "metadata": {},
   "outputs": [
    {
     "data": {
      "text/html": [
       "<div>\n",
       "<style scoped>\n",
       "    .dataframe tbody tr th:only-of-type {\n",
       "        vertical-align: middle;\n",
       "    }\n",
       "\n",
       "    .dataframe tbody tr th {\n",
       "        vertical-align: top;\n",
       "    }\n",
       "\n",
       "    .dataframe thead th {\n",
       "        text-align: right;\n",
       "    }\n",
       "</style>\n",
       "<table border=\"1\" class=\"dataframe\">\n",
       "  <thead>\n",
       "    <tr style=\"text-align: right;\">\n",
       "      <th></th>\n",
       "      <th>discovered</th>\n",
       "      <th>passed</th>\n",
       "      <th>started_attempt</th>\n",
       "      <th>viewed</th>\n",
       "      <th>correct</th>\n",
       "      <th>wrong</th>\n",
       "      <th>correct_ratio</th>\n",
       "      <th>passed_course</th>\n",
       "    </tr>\n",
       "    <tr>\n",
       "      <th>user_id</th>\n",
       "      <th></th>\n",
       "      <th></th>\n",
       "      <th></th>\n",
       "      <th></th>\n",
       "      <th></th>\n",
       "      <th></th>\n",
       "      <th></th>\n",
       "      <th></th>\n",
       "    </tr>\n",
       "  </thead>\n",
       "  <tbody>\n",
       "    <tr>\n",
       "      <th>1</th>\n",
       "      <td>1.0</td>\n",
       "      <td>0.0</td>\n",
       "      <td>0.0</td>\n",
       "      <td>1.0</td>\n",
       "      <td>0.0</td>\n",
       "      <td>0.0</td>\n",
       "      <td>0.000000</td>\n",
       "      <td>0</td>\n",
       "    </tr>\n",
       "    <tr>\n",
       "      <th>2</th>\n",
       "      <td>9.0</td>\n",
       "      <td>9.0</td>\n",
       "      <td>2.0</td>\n",
       "      <td>10.0</td>\n",
       "      <td>2.0</td>\n",
       "      <td>0.0</td>\n",
       "      <td>1.000000</td>\n",
       "      <td>0</td>\n",
       "    </tr>\n",
       "    <tr>\n",
       "      <th>3</th>\n",
       "      <td>91.0</td>\n",
       "      <td>87.0</td>\n",
       "      <td>30.0</td>\n",
       "      <td>192.0</td>\n",
       "      <td>29.0</td>\n",
       "      <td>23.0</td>\n",
       "      <td>0.557692</td>\n",
       "      <td>0</td>\n",
       "    </tr>\n",
       "    <tr>\n",
       "      <th>5</th>\n",
       "      <td>11.0</td>\n",
       "      <td>11.0</td>\n",
       "      <td>4.0</td>\n",
       "      <td>12.0</td>\n",
       "      <td>2.0</td>\n",
       "      <td>2.0</td>\n",
       "      <td>0.500000</td>\n",
       "      <td>0</td>\n",
       "    </tr>\n",
       "    <tr>\n",
       "      <th>7</th>\n",
       "      <td>1.0</td>\n",
       "      <td>1.0</td>\n",
       "      <td>0.0</td>\n",
       "      <td>1.0</td>\n",
       "      <td>0.0</td>\n",
       "      <td>0.0</td>\n",
       "      <td>0.000000</td>\n",
       "      <td>0</td>\n",
       "    </tr>\n",
       "  </tbody>\n",
       "</table>\n",
       "</div>"
      ],
      "text/plain": [
       "         discovered  passed  started_attempt  viewed  correct  wrong  \\\n",
       "user_id                                                                \n",
       "1               1.0     0.0              0.0     1.0      0.0    0.0   \n",
       "2               9.0     9.0              2.0    10.0      2.0    0.0   \n",
       "3              91.0    87.0             30.0   192.0     29.0   23.0   \n",
       "5              11.0    11.0              4.0    12.0      2.0    2.0   \n",
       "7               1.0     1.0              0.0     1.0      0.0    0.0   \n",
       "\n",
       "         correct_ratio  passed_course  \n",
       "user_id                                \n",
       "1             0.000000              0  \n",
       "2             1.000000              0  \n",
       "3             0.557692              0  \n",
       "5             0.500000              0  \n",
       "7             0.000000              0  "
      ]
     },
     "execution_count": 11,
     "metadata": {},
     "output_type": "execute_result"
    }
   ],
   "source": [
    "complete_data.head()"
   ]
  },
  {
   "cell_type": "markdown",
   "id": "dddbcec1-c00c-430a-9481-92ff8b3c7845",
   "metadata": {},
   "source": [
    "Наша таблица для тренировки модели почти готова! Осталось только для каждого пользователя выбрать те записи, которые отображают прогресс пользователя за первые 2 дня прохождения курса.\n",
    "\n",
    "Для этого в исходных таблицах найдем первый, минимальный таймстэмп пользователя, затем прибавим к нему 2 дня (48\\*60\\*60 секунд), и возьмем те записи, которые будут принадлежать этому временному промежутку:"
   ]
  },
  {
   "cell_type": "code",
   "execution_count": 12,
   "id": "0fb793b6-ad6d-4fe7-98eb-0ee033f4005f",
   "metadata": {},
   "outputs": [],
   "source": [
    "events_min_max_time = pd.DataFrame(events_data.groupby('user_id').\n",
    "                                   timestamp.min()). \\\n",
    "                                   rename(columns={'timestamp': 'min_time'})\n",
    "\n",
    "events_min_max_time['max_time'] = events_min_max_time.min_time + 48*60*60\n",
    "events_data = events_data.join(events_min_max_time, on='user_id')\n",
    "\n",
    "submissions_min_max_time = pd.DataFrame(submissions_data.groupby('user_id').\n",
    "                                        timestamp.min()). \\\n",
    "                                        rename(columns={'timestamp': 'min_time'})\n",
    "    \n",
    "submissions_min_max_time['max_time'] = submissions_min_max_time.min_time + 48*60*60\n",
    "submissions_data = submissions_data.join(submissions_min_max_time, on='user_id')\n",
    "\n",
    "events_2days = events_data.loc[events_data.timestamp <= events_data.max_time]\n",
    "submissions_2days = submissions_data.loc[submissions_data.timestamp <= \n",
    "                                         submissions_data.max_time]"
   ]
  },
  {
   "cell_type": "markdown",
   "id": "2159c3cb-b08c-4521-927d-e925f01f8cc0",
   "metadata": {},
   "source": [
    "Мы извлекли нужные записи - теперь нужно привести их к такому же виду, к какому мы привели исходные таблицы:"
   ]
  },
  {
   "cell_type": "code",
   "execution_count": 13,
   "id": "599cbbe9-efe6-4fd5-afdb-3f2885c79135",
   "metadata": {},
   "outputs": [],
   "source": [
    "events_2days = events_2days.drop(['min_time', 'max_time'], axis=1)\n",
    "submissions_2days = submissions_2days.drop(['min_time', 'max_time'], axis=1)\n",
    "\n",
    "action_count_2days = events_2days.pivot_table(values='action', \n",
    "                                              index='user_id', \n",
    "                                              columns='action', \n",
    "                                              aggfunc='count').fillna(0)\n",
    "\n",
    "submissions_count_2days = submissions_2days.pivot_table(values='submission_status', \n",
    "                                                        index='user_id',\n",
    "                                                        columns='submission_status', \n",
    "                                                        aggfunc='count').fillna(0)\n",
    "\n",
    "submissions_count_2days['correct_ratio'] = submissions_count_2days.correct / \\\n",
    "                                           (submissions_count_2days.correct + \n",
    "                                            submissions_count_2days.wrong)\n",
    "\n",
    "data_2days = action_count_2days.join(submissions_count_2days, \n",
    "                                     on='user_id', how='outer').fillna(0)"
   ]
  },
  {
   "cell_type": "markdown",
   "id": "37bc474b-8405-450b-9b97-4de2a7484b60",
   "metadata": {},
   "source": [
    "И финальный шаг: добавим к двухдневной таблице колонку \"из будущего\" - прошел ли пользователь в итоге курс или нет. Это колонка *passed_course*, которую мы вычислили на основе полных данных."
   ]
  },
  {
   "cell_type": "code",
   "execution_count": 14,
   "id": "e7c3e03a-2f05-49ee-8e84-869233655bd5",
   "metadata": {},
   "outputs": [],
   "source": [
    "data_2days = data_2days.join(complete_data.passed_course, on='user_id')"
   ]
  },
  {
   "cell_type": "code",
   "execution_count": 15,
   "id": "54ba6138-41d5-4635-beb1-58b8aa53540a",
   "metadata": {},
   "outputs": [
    {
     "data": {
      "text/html": [
       "<div>\n",
       "<style scoped>\n",
       "    .dataframe tbody tr th:only-of-type {\n",
       "        vertical-align: middle;\n",
       "    }\n",
       "\n",
       "    .dataframe tbody tr th {\n",
       "        vertical-align: top;\n",
       "    }\n",
       "\n",
       "    .dataframe thead th {\n",
       "        text-align: right;\n",
       "    }\n",
       "</style>\n",
       "<table border=\"1\" class=\"dataframe\">\n",
       "  <thead>\n",
       "    <tr style=\"text-align: right;\">\n",
       "      <th></th>\n",
       "      <th>discovered</th>\n",
       "      <th>passed</th>\n",
       "      <th>started_attempt</th>\n",
       "      <th>viewed</th>\n",
       "      <th>correct</th>\n",
       "      <th>wrong</th>\n",
       "      <th>correct_ratio</th>\n",
       "      <th>passed_course</th>\n",
       "    </tr>\n",
       "    <tr>\n",
       "      <th>user_id</th>\n",
       "      <th></th>\n",
       "      <th></th>\n",
       "      <th></th>\n",
       "      <th></th>\n",
       "      <th></th>\n",
       "      <th></th>\n",
       "      <th></th>\n",
       "      <th></th>\n",
       "    </tr>\n",
       "  </thead>\n",
       "  <tbody>\n",
       "    <tr>\n",
       "      <th>1</th>\n",
       "      <td>1.0</td>\n",
       "      <td>0.0</td>\n",
       "      <td>0.0</td>\n",
       "      <td>1.0</td>\n",
       "      <td>0.0</td>\n",
       "      <td>0.0</td>\n",
       "      <td>0.0</td>\n",
       "      <td>0</td>\n",
       "    </tr>\n",
       "    <tr>\n",
       "      <th>2</th>\n",
       "      <td>9.0</td>\n",
       "      <td>9.0</td>\n",
       "      <td>2.0</td>\n",
       "      <td>9.0</td>\n",
       "      <td>2.0</td>\n",
       "      <td>0.0</td>\n",
       "      <td>1.0</td>\n",
       "      <td>0</td>\n",
       "    </tr>\n",
       "    <tr>\n",
       "      <th>3</th>\n",
       "      <td>15.0</td>\n",
       "      <td>15.0</td>\n",
       "      <td>4.0</td>\n",
       "      <td>20.0</td>\n",
       "      <td>4.0</td>\n",
       "      <td>4.0</td>\n",
       "      <td>0.5</td>\n",
       "      <td>0</td>\n",
       "    </tr>\n",
       "    <tr>\n",
       "      <th>5</th>\n",
       "      <td>1.0</td>\n",
       "      <td>1.0</td>\n",
       "      <td>0.0</td>\n",
       "      <td>1.0</td>\n",
       "      <td>2.0</td>\n",
       "      <td>2.0</td>\n",
       "      <td>0.5</td>\n",
       "      <td>0</td>\n",
       "    </tr>\n",
       "    <tr>\n",
       "      <th>7</th>\n",
       "      <td>1.0</td>\n",
       "      <td>1.0</td>\n",
       "      <td>0.0</td>\n",
       "      <td>1.0</td>\n",
       "      <td>0.0</td>\n",
       "      <td>0.0</td>\n",
       "      <td>0.0</td>\n",
       "      <td>0</td>\n",
       "    </tr>\n",
       "  </tbody>\n",
       "</table>\n",
       "</div>"
      ],
      "text/plain": [
       "         discovered  passed  started_attempt  viewed  correct  wrong  \\\n",
       "user_id                                                                \n",
       "1               1.0     0.0              0.0     1.0      0.0    0.0   \n",
       "2               9.0     9.0              2.0     9.0      2.0    0.0   \n",
       "3              15.0    15.0              4.0    20.0      4.0    4.0   \n",
       "5               1.0     1.0              0.0     1.0      2.0    2.0   \n",
       "7               1.0     1.0              0.0     1.0      0.0    0.0   \n",
       "\n",
       "         correct_ratio  passed_course  \n",
       "user_id                                \n",
       "1                  0.0              0  \n",
       "2                  1.0              0  \n",
       "3                  0.5              0  \n",
       "5                  0.5              0  \n",
       "7                  0.0              0  "
      ]
     },
     "execution_count": 15,
     "metadata": {},
     "output_type": "execute_result"
    }
   ],
   "source": [
    "data_2days.head()"
   ]
  },
  {
   "cell_type": "markdown",
   "id": "6dc1a8f2-4122-4451-b911-9f60e64e93ac",
   "metadata": {},
   "source": [
    "Прекрасно! Теперь у нас есть таблица, в которой отслеживается прогресс пользователя за первые два дня прохождения курса, но также в этой таблице есть информация о том, прошел ли пользователь в итоге курс или нет.\n",
    "\n",
    "На такой таблице мы и будем обучать нашу модель. Сохраним наши обработанные данные в CSV формате и перейдем к следующему шагу."
   ]
  },
  {
   "cell_type": "code",
   "execution_count": 16,
   "id": "8e5b112f-a220-4407-9eae-0ba17f7d008f",
   "metadata": {},
   "outputs": [],
   "source": [
    "data_2days.to_csv('datasets/ML_Contest_train.csv')"
   ]
  },
  {
   "cell_type": "markdown",
   "id": "9bbe0bde-f7b3-43a9-9290-6ff78f4c342d",
   "metadata": {},
   "source": [
    "# Подготовка тестового датасета "
   ]
  },
  {
   "cell_type": "markdown",
   "id": "d8db4274-6f6b-4b12-964c-ad1d6afdf12a",
   "metadata": {},
   "source": [
    "Загрузим наши тестовые данные - те данные, на основе которых и нужно предсказать, получит ли пользователь заветный сертификат."
   ]
  },
  {
   "cell_type": "code",
   "execution_count": 17,
   "id": "e06daa55-f067-4de1-883a-4213fb93c60b",
   "metadata": {},
   "outputs": [],
   "source": [
    "events_data_test = pd.read_csv('datasets/events_data_test.csv')\n",
    "submissions_data_test = pd.read_csv('datasets/submission_data_test.csv')"
   ]
  },
  {
   "cell_type": "code",
   "execution_count": 18,
   "id": "016d6c26-523a-4249-8841-eebac3205503",
   "metadata": {},
   "outputs": [
    {
     "data": {
      "text/html": [
       "<div>\n",
       "<style scoped>\n",
       "    .dataframe tbody tr th:only-of-type {\n",
       "        vertical-align: middle;\n",
       "    }\n",
       "\n",
       "    .dataframe tbody tr th {\n",
       "        vertical-align: top;\n",
       "    }\n",
       "\n",
       "    .dataframe thead th {\n",
       "        text-align: right;\n",
       "    }\n",
       "</style>\n",
       "<table border=\"1\" class=\"dataframe\">\n",
       "  <thead>\n",
       "    <tr style=\"text-align: right;\">\n",
       "      <th></th>\n",
       "      <th>step_id</th>\n",
       "      <th>timestamp</th>\n",
       "      <th>action</th>\n",
       "      <th>user_id</th>\n",
       "    </tr>\n",
       "  </thead>\n",
       "  <tbody>\n",
       "    <tr>\n",
       "      <th>0</th>\n",
       "      <td>30456</td>\n",
       "      <td>1526893787</td>\n",
       "      <td>viewed</td>\n",
       "      <td>24417</td>\n",
       "    </tr>\n",
       "    <tr>\n",
       "      <th>1</th>\n",
       "      <td>30456</td>\n",
       "      <td>1526893797</td>\n",
       "      <td>viewed</td>\n",
       "      <td>24417</td>\n",
       "    </tr>\n",
       "    <tr>\n",
       "      <th>2</th>\n",
       "      <td>30456</td>\n",
       "      <td>1526893954</td>\n",
       "      <td>viewed</td>\n",
       "      <td>24417</td>\n",
       "    </tr>\n",
       "    <tr>\n",
       "      <th>3</th>\n",
       "      <td>30456</td>\n",
       "      <td>1526895780</td>\n",
       "      <td>viewed</td>\n",
       "      <td>24417</td>\n",
       "    </tr>\n",
       "    <tr>\n",
       "      <th>4</th>\n",
       "      <td>30456</td>\n",
       "      <td>1526893787</td>\n",
       "      <td>discovered</td>\n",
       "      <td>24417</td>\n",
       "    </tr>\n",
       "  </tbody>\n",
       "</table>\n",
       "</div>"
      ],
      "text/plain": [
       "   step_id   timestamp      action  user_id\n",
       "0    30456  1526893787      viewed    24417\n",
       "1    30456  1526893797      viewed    24417\n",
       "2    30456  1526893954      viewed    24417\n",
       "3    30456  1526895780      viewed    24417\n",
       "4    30456  1526893787  discovered    24417"
      ]
     },
     "execution_count": 18,
     "metadata": {},
     "output_type": "execute_result"
    }
   ],
   "source": [
    "events_data_test.head()"
   ]
  },
  {
   "cell_type": "code",
   "execution_count": 19,
   "id": "fc769dec-d44d-40eb-beae-1cf56a8090dd",
   "metadata": {},
   "outputs": [
    {
     "data": {
      "text/html": [
       "<div>\n",
       "<style scoped>\n",
       "    .dataframe tbody tr th:only-of-type {\n",
       "        vertical-align: middle;\n",
       "    }\n",
       "\n",
       "    .dataframe tbody tr th {\n",
       "        vertical-align: top;\n",
       "    }\n",
       "\n",
       "    .dataframe thead th {\n",
       "        text-align: right;\n",
       "    }\n",
       "</style>\n",
       "<table border=\"1\" class=\"dataframe\">\n",
       "  <thead>\n",
       "    <tr style=\"text-align: right;\">\n",
       "      <th></th>\n",
       "      <th>step_id</th>\n",
       "      <th>timestamp</th>\n",
       "      <th>submission_status</th>\n",
       "      <th>user_id</th>\n",
       "    </tr>\n",
       "  </thead>\n",
       "  <tbody>\n",
       "    <tr>\n",
       "      <th>0</th>\n",
       "      <td>31971</td>\n",
       "      <td>1526800961</td>\n",
       "      <td>wrong</td>\n",
       "      <td>24370</td>\n",
       "    </tr>\n",
       "    <tr>\n",
       "      <th>1</th>\n",
       "      <td>31971</td>\n",
       "      <td>1526800976</td>\n",
       "      <td>wrong</td>\n",
       "      <td>24370</td>\n",
       "    </tr>\n",
       "    <tr>\n",
       "      <th>2</th>\n",
       "      <td>31971</td>\n",
       "      <td>1526800993</td>\n",
       "      <td>wrong</td>\n",
       "      <td>24370</td>\n",
       "    </tr>\n",
       "    <tr>\n",
       "      <th>3</th>\n",
       "      <td>31971</td>\n",
       "      <td>1526801054</td>\n",
       "      <td>correct</td>\n",
       "      <td>24370</td>\n",
       "    </tr>\n",
       "    <tr>\n",
       "      <th>4</th>\n",
       "      <td>31972</td>\n",
       "      <td>1526800664</td>\n",
       "      <td>wrong</td>\n",
       "      <td>24370</td>\n",
       "    </tr>\n",
       "  </tbody>\n",
       "</table>\n",
       "</div>"
      ],
      "text/plain": [
       "   step_id   timestamp submission_status  user_id\n",
       "0    31971  1526800961             wrong    24370\n",
       "1    31971  1526800976             wrong    24370\n",
       "2    31971  1526800993             wrong    24370\n",
       "3    31971  1526801054           correct    24370\n",
       "4    31972  1526800664             wrong    24370"
      ]
     },
     "execution_count": 19,
     "metadata": {},
     "output_type": "execute_result"
    }
   ],
   "source": [
    "submissions_data_test.head()"
   ]
  },
  {
   "cell_type": "markdown",
   "id": "9c626878-7e76-467b-9686-b136c33aaf14",
   "metadata": {},
   "source": [
    "Эти данные записаны в таком же сыром виде, как и сырые данные для нашей тренировочной модели. Поэтому проведем для них те же операции, чтобы привести к нужному формату:"
   ]
  },
  {
   "cell_type": "code",
   "execution_count": 20,
   "id": "9b81665c-5f0d-4f6b-839d-705f30721303",
   "metadata": {},
   "outputs": [],
   "source": [
    "events_data_test = events_data_test.drop('step_id', axis=1)\n",
    "submissions_data_test = submissions_data_test.drop('step_id', axis=1)\n",
    "\n",
    "action_count_test = events_data_test.pivot_table(values='action', \n",
    "                                                 index='user_id',\n",
    "                                                 columns='action', \n",
    "                                                 aggfunc='count').fillna(0)\n",
    "\n",
    "submissions_count_test = submissions_data_test.pivot_table(values='submission_status', \n",
    "                                                           index='user_id',\n",
    "                                                           columns='submission_status', \n",
    "                                                           aggfunc='count').fillna(0)\n",
    "\n",
    "submissions_count_test['correct_ratio'] = submissions_count_test.correct / \\\n",
    "                                         (submissions_count_test.correct + \n",
    "                                          submissions_count_test.wrong)\n",
    "\n",
    "complete_data_test = action_count_test.join(submissions_count_test, \n",
    "                                            on='user_id', how='outer').fillna(0)"
   ]
  },
  {
   "cell_type": "code",
   "execution_count": 21,
   "id": "445d7edd-b3c1-4300-a7ef-6cf34b3314eb",
   "metadata": {},
   "outputs": [
    {
     "data": {
      "text/html": [
       "<div>\n",
       "<style scoped>\n",
       "    .dataframe tbody tr th:only-of-type {\n",
       "        vertical-align: middle;\n",
       "    }\n",
       "\n",
       "    .dataframe tbody tr th {\n",
       "        vertical-align: top;\n",
       "    }\n",
       "\n",
       "    .dataframe thead th {\n",
       "        text-align: right;\n",
       "    }\n",
       "</style>\n",
       "<table border=\"1\" class=\"dataframe\">\n",
       "  <thead>\n",
       "    <tr style=\"text-align: right;\">\n",
       "      <th></th>\n",
       "      <th>discovered</th>\n",
       "      <th>passed</th>\n",
       "      <th>started_attempt</th>\n",
       "      <th>viewed</th>\n",
       "      <th>correct</th>\n",
       "      <th>wrong</th>\n",
       "      <th>correct_ratio</th>\n",
       "    </tr>\n",
       "    <tr>\n",
       "      <th>user_id</th>\n",
       "      <th></th>\n",
       "      <th></th>\n",
       "      <th></th>\n",
       "      <th></th>\n",
       "      <th></th>\n",
       "      <th></th>\n",
       "      <th></th>\n",
       "    </tr>\n",
       "  </thead>\n",
       "  <tbody>\n",
       "    <tr>\n",
       "      <th>4</th>\n",
       "      <td>1.0</td>\n",
       "      <td>1.0</td>\n",
       "      <td>0.0</td>\n",
       "      <td>1.0</td>\n",
       "      <td>0.0</td>\n",
       "      <td>0.0</td>\n",
       "      <td>0.000000</td>\n",
       "    </tr>\n",
       "    <tr>\n",
       "      <th>6</th>\n",
       "      <td>1.0</td>\n",
       "      <td>1.0</td>\n",
       "      <td>0.0</td>\n",
       "      <td>1.0</td>\n",
       "      <td>0.0</td>\n",
       "      <td>0.0</td>\n",
       "      <td>0.000000</td>\n",
       "    </tr>\n",
       "    <tr>\n",
       "      <th>10</th>\n",
       "      <td>2.0</td>\n",
       "      <td>2.0</td>\n",
       "      <td>0.0</td>\n",
       "      <td>6.0</td>\n",
       "      <td>0.0</td>\n",
       "      <td>0.0</td>\n",
       "      <td>0.000000</td>\n",
       "    </tr>\n",
       "    <tr>\n",
       "      <th>12</th>\n",
       "      <td>11.0</td>\n",
       "      <td>9.0</td>\n",
       "      <td>4.0</td>\n",
       "      <td>14.0</td>\n",
       "      <td>1.0</td>\n",
       "      <td>0.0</td>\n",
       "      <td>1.000000</td>\n",
       "    </tr>\n",
       "    <tr>\n",
       "      <th>13</th>\n",
       "      <td>70.0</td>\n",
       "      <td>70.0</td>\n",
       "      <td>35.0</td>\n",
       "      <td>105.0</td>\n",
       "      <td>29.0</td>\n",
       "      <td>36.0</td>\n",
       "      <td>0.446154</td>\n",
       "    </tr>\n",
       "  </tbody>\n",
       "</table>\n",
       "</div>"
      ],
      "text/plain": [
       "         discovered  passed  started_attempt  viewed  correct  wrong  \\\n",
       "user_id                                                                \n",
       "4               1.0     1.0              0.0     1.0      0.0    0.0   \n",
       "6               1.0     1.0              0.0     1.0      0.0    0.0   \n",
       "10              2.0     2.0              0.0     6.0      0.0    0.0   \n",
       "12             11.0     9.0              4.0    14.0      1.0    0.0   \n",
       "13             70.0    70.0             35.0   105.0     29.0   36.0   \n",
       "\n",
       "         correct_ratio  \n",
       "user_id                 \n",
       "4             0.000000  \n",
       "6             0.000000  \n",
       "10            0.000000  \n",
       "12            1.000000  \n",
       "13            0.446154  "
      ]
     },
     "execution_count": 21,
     "metadata": {},
     "output_type": "execute_result"
    }
   ],
   "source": [
    "complete_data_test.head()"
   ]
  },
  {
   "cell_type": "markdown",
   "id": "1f44364d-1b9c-4ca0-80ca-4ba2bd8778bf",
   "metadata": {},
   "source": [
    "# Обучение модели\n",
    "\n",
    "Настало время машинного обучения! Используем модель XGBoost и настроим её гиперпараметры с помощью библиотеки HyperOpt."
   ]
  },
  {
   "cell_type": "code",
   "execution_count": 22,
   "id": "812c8d1b-274d-4734-af7e-a13b6d3354ac",
   "metadata": {},
   "outputs": [],
   "source": [
    "from xgboost import XGBClassifier\n",
    "from hyperopt import tpe,hp,Trials\n",
    "from hyperopt.fmin import fmin\n",
    "\n",
    "from sklearn.model_selection import train_test_split, cross_val_score\n",
    "from sklearn.metrics import f1_score, roc_auc_score"
   ]
  },
  {
   "cell_type": "code",
   "execution_count": 23,
   "id": "39541367-3c82-471f-89ee-96ceda123758",
   "metadata": {},
   "outputs": [],
   "source": [
    "train_dataset = pd.read_csv('datasets/ML_Contest_train.csv', index_col='user_id')\n",
    "X = train_dataset.drop('passed_course', axis=1)\n",
    "y = train_dataset.passed_course\n",
    "\n",
    "X_train, X_test, y_train, y_test = train_test_split(X, y, test_size=0.20)"
   ]
  },
  {
   "cell_type": "code",
   "execution_count": 24,
   "id": "23ede015-abfb-4755-b2e0-2318fc97811b",
   "metadata": {},
   "outputs": [
    {
     "name": "stdout",
     "output_type": "stream",
     "text": [
      "100%|█████████████████████████████████████████████| 200/200 [05:27<00:00,  1.64s/trial, best loss: -0.8888122683820981]\n"
     ]
    },
    {
     "data": {
      "text/plain": [
       "{'eta': 0.07565103133706211,\n",
       " 'max_depth': 3.5753400172769436,\n",
       " 'n_estimators': 159.8227516551725}"
      ]
     },
     "execution_count": 24,
     "metadata": {},
     "output_type": "execute_result"
    }
   ],
   "source": [
    "def objective(params):\n",
    "    eta=float(params['eta'])\n",
    "    n_estimators=int(params['n_estimators'])\n",
    "    md=int(params['max_depth'])\n",
    "    model=XGBClassifier(eta=eta, max_depth=md, n_estimators=n_estimators, n_jobs=-1)\n",
    "    score=-cross_val_score(model, X, y, scoring='roc_auc').mean()\n",
    "    return score\n",
    "\n",
    "def optimize(trial):\n",
    "    params={'eta':hp.uniform('eta',0.001,0.2),\n",
    "            'n_estimators':hp.uniform('n_estimators', 100,200),\n",
    "           'max_depth':hp.uniform('max_depth',3,10)}\n",
    "    best=fmin(fn=objective,space=params,algo=tpe.suggest,trials=trial,max_evals=200)\n",
    "    return best\n",
    "\n",
    "trial=Trials()\n",
    "best=optimize(trial)\n",
    "best"
   ]
  },
  {
   "cell_type": "code",
   "execution_count": 27,
   "id": "6f0e0483-9024-4283-b561-cc83fb68aa2f",
   "metadata": {},
   "outputs": [
    {
     "data": {
      "text/plain": [
       "0.907262464832134"
      ]
     },
     "execution_count": 27,
     "metadata": {},
     "output_type": "execute_result"
    }
   ],
   "source": [
    "best_clf = XGBClassifier(eta=0.07565103133706211, max_depth=4, n_estimators=160, n_jobs=-1)\n",
    "best_clf.fit(X,y)\n",
    "predicted = best_clf.predict_proba(X_test)[:, 1]\n",
    "roc_auc_score(y_test, predicted)"
   ]
  },
  {
   "cell_type": "markdown",
   "id": "5a3be90d-7328-46a3-93a9-e5b4a07de380",
   "metadata": {},
   "source": [
    "# Результат работы\n",
    "\n",
    "Сделаем наше заключительное предсказание по датасету complete_data_test, который мы заранее подготовили."
   ]
  },
  {
   "cell_type": "code",
   "execution_count": 28,
   "id": "bd647378-d15f-474e-865a-f6fd174a1703",
   "metadata": {},
   "outputs": [],
   "source": [
    "predict = best_clf.predict_proba(complete_data_test)[:, 1]"
   ]
  },
  {
   "cell_type": "markdown",
   "id": "bbad380f-a0dd-4786-83b8-858b0260d15f",
   "metadata": {},
   "source": [
    "Результатом работы нашей программы должен стать файл, в котором указан id юзера и соответствующая ему вероятность завершения курса:"
   ]
  },
  {
   "cell_type": "code",
   "execution_count": 29,
   "id": "a5831e4c-c4ed-4520-86d6-8f8ff4e0775f",
   "metadata": {},
   "outputs": [],
   "source": [
    "result = pd.Series(predict, index=complete_data_test.reset_index().user_id, \n",
    "                   name='is_gone')\n",
    "\n",
    "result.to_csv('predictions.csv')"
   ]
  },
  {
   "cell_type": "code",
   "execution_count": 30,
   "id": "f6293900-8efd-45ca-9625-ff19b6754573",
   "metadata": {},
   "outputs": [
    {
     "data": {
      "text/plain": [
       "user_id\n",
       "19487    0.981494\n",
       "11619    0.978593\n",
       "7308     0.972561\n",
       "20193    0.968420\n",
       "2384     0.967403\n",
       "           ...   \n",
       "12229    0.000084\n",
       "14527    0.000084\n",
       "5356     0.000084\n",
       "11326    0.000076\n",
       "12684    0.000068\n",
       "Name: is_gone, Length: 6184, dtype: float32"
      ]
     },
     "execution_count": 30,
     "metadata": {},
     "output_type": "execute_result"
    }
   ],
   "source": [
    "result.sort_values(ascending=False)"
   ]
  },
  {
   "cell_type": "markdown",
   "id": "239e9d87-735d-4e45-be78-d8211cfbdfe6",
   "metadata": {},
   "source": [
    "Осталось лишь проверить точность наших предсказаний. Загрузим наш результат в проверочную форму и получим ROC_AUC_SCORE = 0.8849599233695512, что говорит о довольно высокой точности предсказания нашей модели!"
   ]
  },
  {
   "cell_type": "markdown",
   "id": "53ad0854-34a4-4020-9b0a-8688acf3a30b",
   "metadata": {},
   "source": [
    "![Скриншот результата](result.png)"
   ]
  }
 ],
 "metadata": {
  "kernelspec": {
   "display_name": "Python 3 (ipykernel)",
   "language": "python",
   "name": "python3"
  },
  "language_info": {
   "codemirror_mode": {
    "name": "ipython",
    "version": 3
   },
   "file_extension": ".py",
   "mimetype": "text/x-python",
   "name": "python",
   "nbconvert_exporter": "python",
   "pygments_lexer": "ipython3",
   "version": "3.10.6"
  }
 },
 "nbformat": 4,
 "nbformat_minor": 5
}
