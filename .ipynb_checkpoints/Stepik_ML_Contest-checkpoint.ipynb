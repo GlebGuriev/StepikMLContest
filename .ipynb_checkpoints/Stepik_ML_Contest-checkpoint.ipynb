{
 "cells": [
  {
   "cell_type": "markdown",
   "id": "b2bd0c5b-a834-4ac8-9156-5f84bb9d52af",
   "metadata": {
    "tags": []
   },
   "source": [
    "# Подготовим данные для тренировки модели\n",
    "\n",
    "Нам даны две таблицы: в первой собраны данные о действиях пользователей, во второй - данные о попытках пользователей решить задания. Импортируем библиотеку Pandas и посмотрим на формат наших данных:"
   ]
  },
  {
   "cell_type": "code",
   "execution_count": 143,
   "id": "bf46c318-adeb-4c9e-a45e-19c81ef809b7",
   "metadata": {},
   "outputs": [],
   "source": [
    "import pandas as pd\n",
    "events_data = pd.read_csv('datasets/event_data_train.csv')\n",
    "submissions_data = pd.read_csv('datasets/submissions_data_train.csv')"
   ]
  },
  {
   "cell_type": "code",
   "execution_count": 144,
   "id": "fb871ad5-517c-4a4c-a82b-9a1dc0a1d5c9",
   "metadata": {},
   "outputs": [
    {
     "data": {
      "text/html": [
       "<div>\n",
       "<style scoped>\n",
       "    .dataframe tbody tr th:only-of-type {\n",
       "        vertical-align: middle;\n",
       "    }\n",
       "\n",
       "    .dataframe tbody tr th {\n",
       "        vertical-align: top;\n",
       "    }\n",
       "\n",
       "    .dataframe thead th {\n",
       "        text-align: right;\n",
       "    }\n",
       "</style>\n",
       "<table border=\"1\" class=\"dataframe\">\n",
       "  <thead>\n",
       "    <tr style=\"text-align: right;\">\n",
       "      <th></th>\n",
       "      <th>step_id</th>\n",
       "      <th>timestamp</th>\n",
       "      <th>action</th>\n",
       "      <th>user_id</th>\n",
       "    </tr>\n",
       "  </thead>\n",
       "  <tbody>\n",
       "    <tr>\n",
       "      <th>0</th>\n",
       "      <td>32815</td>\n",
       "      <td>1434340848</td>\n",
       "      <td>viewed</td>\n",
       "      <td>17632</td>\n",
       "    </tr>\n",
       "    <tr>\n",
       "      <th>1</th>\n",
       "      <td>32815</td>\n",
       "      <td>1434340848</td>\n",
       "      <td>passed</td>\n",
       "      <td>17632</td>\n",
       "    </tr>\n",
       "    <tr>\n",
       "      <th>2</th>\n",
       "      <td>32815</td>\n",
       "      <td>1434340848</td>\n",
       "      <td>discovered</td>\n",
       "      <td>17632</td>\n",
       "    </tr>\n",
       "    <tr>\n",
       "      <th>3</th>\n",
       "      <td>32811</td>\n",
       "      <td>1434340895</td>\n",
       "      <td>discovered</td>\n",
       "      <td>17632</td>\n",
       "    </tr>\n",
       "    <tr>\n",
       "      <th>4</th>\n",
       "      <td>32811</td>\n",
       "      <td>1434340895</td>\n",
       "      <td>viewed</td>\n",
       "      <td>17632</td>\n",
       "    </tr>\n",
       "  </tbody>\n",
       "</table>\n",
       "</div>"
      ],
      "text/plain": [
       "   step_id   timestamp      action  user_id\n",
       "0    32815  1434340848      viewed    17632\n",
       "1    32815  1434340848      passed    17632\n",
       "2    32815  1434340848  discovered    17632\n",
       "3    32811  1434340895  discovered    17632\n",
       "4    32811  1434340895      viewed    17632"
      ]
     },
     "execution_count": 144,
     "metadata": {},
     "output_type": "execute_result"
    }
   ],
   "source": [
    "events_data.head()"
   ]
  },
  {
   "cell_type": "markdown",
   "id": "1637d005-1093-4d3a-bc88-9d2ffffa55e7",
   "metadata": {},
   "source": [
    "1. step_id - id стэпа\n",
    "2. user_id - анонимизированный id юзера\n",
    "3. timestamp - время наступления события в формате unix date\n",
    "4. action - событие, возможные значения: \n",
    "\n",
    "* discovered - пользователь перешел на стэп\n",
    "* viewed - просмотр шага,\n",
    "* started_attempt - начало попытки решить шаг\n",
    "* passed - удачное решение практического шага"
   ]
  },
  {
   "cell_type": "code",
   "execution_count": 145,
   "id": "01754612-678c-4e06-b5d3-26d7f36b4ecc",
   "metadata": {},
   "outputs": [
    {
     "data": {
      "text/html": [
       "<div>\n",
       "<style scoped>\n",
       "    .dataframe tbody tr th:only-of-type {\n",
       "        vertical-align: middle;\n",
       "    }\n",
       "\n",
       "    .dataframe tbody tr th {\n",
       "        vertical-align: top;\n",
       "    }\n",
       "\n",
       "    .dataframe thead th {\n",
       "        text-align: right;\n",
       "    }\n",
       "</style>\n",
       "<table border=\"1\" class=\"dataframe\">\n",
       "  <thead>\n",
       "    <tr style=\"text-align: right;\">\n",
       "      <th></th>\n",
       "      <th>step_id</th>\n",
       "      <th>timestamp</th>\n",
       "      <th>submission_status</th>\n",
       "      <th>user_id</th>\n",
       "    </tr>\n",
       "  </thead>\n",
       "  <tbody>\n",
       "    <tr>\n",
       "      <th>0</th>\n",
       "      <td>31971</td>\n",
       "      <td>1434349275</td>\n",
       "      <td>correct</td>\n",
       "      <td>15853</td>\n",
       "    </tr>\n",
       "    <tr>\n",
       "      <th>1</th>\n",
       "      <td>31972</td>\n",
       "      <td>1434348300</td>\n",
       "      <td>correct</td>\n",
       "      <td>15853</td>\n",
       "    </tr>\n",
       "    <tr>\n",
       "      <th>2</th>\n",
       "      <td>31972</td>\n",
       "      <td>1478852149</td>\n",
       "      <td>wrong</td>\n",
       "      <td>15853</td>\n",
       "    </tr>\n",
       "    <tr>\n",
       "      <th>3</th>\n",
       "      <td>31972</td>\n",
       "      <td>1478852164</td>\n",
       "      <td>correct</td>\n",
       "      <td>15853</td>\n",
       "    </tr>\n",
       "    <tr>\n",
       "      <th>4</th>\n",
       "      <td>31976</td>\n",
       "      <td>1434348123</td>\n",
       "      <td>wrong</td>\n",
       "      <td>15853</td>\n",
       "    </tr>\n",
       "  </tbody>\n",
       "</table>\n",
       "</div>"
      ],
      "text/plain": [
       "   step_id   timestamp submission_status  user_id\n",
       "0    31971  1434349275           correct    15853\n",
       "1    31972  1434348300           correct    15853\n",
       "2    31972  1478852149             wrong    15853\n",
       "3    31972  1478852164           correct    15853\n",
       "4    31976  1434348123             wrong    15853"
      ]
     },
     "execution_count": 145,
     "metadata": {},
     "output_type": "execute_result"
    }
   ],
   "source": [
    "submissions_data.head()"
   ]
  },
  {
   "cell_type": "markdown",
   "id": "3ce50ea6-6d9b-4ff0-b74d-ff1c7db0f7bb",
   "metadata": {},
   "source": [
    "1. step_id - id стэпа\n",
    "2. timestamp - время отправки решения в формате unix date\n",
    "3. submission_status - статус решения\n",
    "4. user_id - анонимизированный id юзера"
   ]
  },
  {
   "cell_type": "markdown",
   "id": "4d3b5171-d7d5-4e94-a6a7-90fc6575242b",
   "metadata": {},
   "source": [
    "Так как мы рассматриваем прогресс каждого студента в общем, а не по каждому степу, уберем колонку step_id из таблиц:"
   ]
  },
  {
   "cell_type": "code",
   "execution_count": 146,
   "id": "f7ac49df-0fbc-4694-ba9e-01fb7fb1c194",
   "metadata": {},
   "outputs": [],
   "source": [
    "events_data = events_data.drop('step_id', axis=1)\n",
    "submissions_data = submissions_data.drop('step_id', axis=1)"
   ]
  },
  {
   "cell_type": "markdown",
   "id": "980fe5fb-902a-4237-b678-5b5c7f85fe70",
   "metadata": {},
   "source": [
    "Теперь посчитаем количество различных событий и количество верных и неверных решений для каждого студента. Применим метод pivot_table к нашим таблицам:"
   ]
  },
  {
   "cell_type": "code",
   "execution_count": 147,
   "id": "59c3cca2-cf03-4528-a5b6-c3cc96b1c94b",
   "metadata": {},
   "outputs": [],
   "source": [
    "action_count = events_data.pivot_table(values='action', index='user_id', \n",
    "                                       columns='action', aggfunc='count').fillna(0)\n",
    "\n",
    "submissions_count = submissions_data.pivot_table(values='submission_status', \n",
    "                                                 index='user_id',\n",
    "                                                 columns='submission_status', \n",
    "                                                 aggfunc='count').fillna(0)"
   ]
  },
  {
   "cell_type": "markdown",
   "id": "e538fe8f-12b3-4d01-b20c-1e5c5bd20359",
   "metadata": {},
   "source": [
    "Также посчитаем такой показатель, как отношение правильных ответов ко всем совершенным попыткам:"
   ]
  },
  {
   "cell_type": "code",
   "execution_count": 148,
   "id": "066d9b54-4bb2-4d49-a944-a4722ad31a6d",
   "metadata": {},
   "outputs": [],
   "source": [
    "submissions_count['correct_ratio'] = submissions_count.correct / \\\n",
    "(submissions_count.correct + submissions_count.wrong)"
   ]
  },
  {
   "cell_type": "code",
   "execution_count": 149,
   "id": "99216f94-8c70-4620-b5e2-d033fed00110",
   "metadata": {},
   "outputs": [
    {
     "data": {
      "text/html": [
       "<div>\n",
       "<style scoped>\n",
       "    .dataframe tbody tr th:only-of-type {\n",
       "        vertical-align: middle;\n",
       "    }\n",
       "\n",
       "    .dataframe tbody tr th {\n",
       "        vertical-align: top;\n",
       "    }\n",
       "\n",
       "    .dataframe thead th {\n",
       "        text-align: right;\n",
       "    }\n",
       "</style>\n",
       "<table border=\"1\" class=\"dataframe\">\n",
       "  <thead>\n",
       "    <tr style=\"text-align: right;\">\n",
       "      <th>action</th>\n",
       "      <th>discovered</th>\n",
       "      <th>passed</th>\n",
       "      <th>started_attempt</th>\n",
       "      <th>viewed</th>\n",
       "    </tr>\n",
       "    <tr>\n",
       "      <th>user_id</th>\n",
       "      <th></th>\n",
       "      <th></th>\n",
       "      <th></th>\n",
       "      <th></th>\n",
       "    </tr>\n",
       "  </thead>\n",
       "  <tbody>\n",
       "    <tr>\n",
       "      <th>1</th>\n",
       "      <td>1.0</td>\n",
       "      <td>0.0</td>\n",
       "      <td>0.0</td>\n",
       "      <td>1.0</td>\n",
       "    </tr>\n",
       "    <tr>\n",
       "      <th>2</th>\n",
       "      <td>9.0</td>\n",
       "      <td>9.0</td>\n",
       "      <td>2.0</td>\n",
       "      <td>10.0</td>\n",
       "    </tr>\n",
       "    <tr>\n",
       "      <th>3</th>\n",
       "      <td>91.0</td>\n",
       "      <td>87.0</td>\n",
       "      <td>30.0</td>\n",
       "      <td>192.0</td>\n",
       "    </tr>\n",
       "    <tr>\n",
       "      <th>5</th>\n",
       "      <td>11.0</td>\n",
       "      <td>11.0</td>\n",
       "      <td>4.0</td>\n",
       "      <td>12.0</td>\n",
       "    </tr>\n",
       "    <tr>\n",
       "      <th>7</th>\n",
       "      <td>1.0</td>\n",
       "      <td>1.0</td>\n",
       "      <td>0.0</td>\n",
       "      <td>1.0</td>\n",
       "    </tr>\n",
       "  </tbody>\n",
       "</table>\n",
       "</div>"
      ],
      "text/plain": [
       "action   discovered  passed  started_attempt  viewed\n",
       "user_id                                             \n",
       "1               1.0     0.0              0.0     1.0\n",
       "2               9.0     9.0              2.0    10.0\n",
       "3              91.0    87.0             30.0   192.0\n",
       "5              11.0    11.0              4.0    12.0\n",
       "7               1.0     1.0              0.0     1.0"
      ]
     },
     "execution_count": 149,
     "metadata": {},
     "output_type": "execute_result"
    }
   ],
   "source": [
    "action_count.head()"
   ]
  },
  {
   "cell_type": "code",
   "execution_count": 150,
   "id": "54b8a201-1a13-4f03-bb1f-52bff4c8628f",
   "metadata": {},
   "outputs": [
    {
     "data": {
      "text/html": [
       "<div>\n",
       "<style scoped>\n",
       "    .dataframe tbody tr th:only-of-type {\n",
       "        vertical-align: middle;\n",
       "    }\n",
       "\n",
       "    .dataframe tbody tr th {\n",
       "        vertical-align: top;\n",
       "    }\n",
       "\n",
       "    .dataframe thead th {\n",
       "        text-align: right;\n",
       "    }\n",
       "</style>\n",
       "<table border=\"1\" class=\"dataframe\">\n",
       "  <thead>\n",
       "    <tr style=\"text-align: right;\">\n",
       "      <th>submission_status</th>\n",
       "      <th>correct</th>\n",
       "      <th>wrong</th>\n",
       "      <th>correct_ratio</th>\n",
       "    </tr>\n",
       "    <tr>\n",
       "      <th>user_id</th>\n",
       "      <th></th>\n",
       "      <th></th>\n",
       "      <th></th>\n",
       "    </tr>\n",
       "  </thead>\n",
       "  <tbody>\n",
       "    <tr>\n",
       "      <th>2</th>\n",
       "      <td>2.0</td>\n",
       "      <td>0.0</td>\n",
       "      <td>1.000000</td>\n",
       "    </tr>\n",
       "    <tr>\n",
       "      <th>3</th>\n",
       "      <td>29.0</td>\n",
       "      <td>23.0</td>\n",
       "      <td>0.557692</td>\n",
       "    </tr>\n",
       "    <tr>\n",
       "      <th>5</th>\n",
       "      <td>2.0</td>\n",
       "      <td>2.0</td>\n",
       "      <td>0.500000</td>\n",
       "    </tr>\n",
       "    <tr>\n",
       "      <th>8</th>\n",
       "      <td>9.0</td>\n",
       "      <td>21.0</td>\n",
       "      <td>0.300000</td>\n",
       "    </tr>\n",
       "    <tr>\n",
       "      <th>14</th>\n",
       "      <td>0.0</td>\n",
       "      <td>1.0</td>\n",
       "      <td>0.000000</td>\n",
       "    </tr>\n",
       "  </tbody>\n",
       "</table>\n",
       "</div>"
      ],
      "text/plain": [
       "submission_status  correct  wrong  correct_ratio\n",
       "user_id                                         \n",
       "2                      2.0    0.0       1.000000\n",
       "3                     29.0   23.0       0.557692\n",
       "5                      2.0    2.0       0.500000\n",
       "8                      9.0   21.0       0.300000\n",
       "14                     0.0    1.0       0.000000"
      ]
     },
     "execution_count": 150,
     "metadata": {},
     "output_type": "execute_result"
    }
   ],
   "source": [
    "submissions_count.head()"
   ]
  },
  {
   "cell_type": "markdown",
   "id": "1e0ad240-d4ba-467a-8706-4bb8e52122ab",
   "metadata": {},
   "source": [
    "Чтобы собрать все необходимые данные в одном месте, соединим две таблицы в одну:"
   ]
  },
  {
   "cell_type": "code",
   "execution_count": 151,
   "id": "ab071488-98f1-43c7-ac97-da4a06293605",
   "metadata": {},
   "outputs": [],
   "source": [
    "complete_data = action_count.join(submissions_count, \n",
    "                                  on='user_id', how='outer').fillna(0)"
   ]
  },
  {
   "cell_type": "markdown",
   "id": "c2ae2317-4c20-4ae0-ba5a-5764887b115e",
   "metadata": {},
   "source": [
    "Добавим в новую таблицу колонку, которая отображает, прошел пользователь курс или нет. По условию задачи мы считаем, что пользователь прошел курс, если он прошел как минимум 40 заданий:"
   ]
  },
  {
   "cell_type": "code",
   "execution_count": 152,
   "id": "218f2414-e210-491a-989c-28c152441366",
   "metadata": {},
   "outputs": [],
   "source": [
    "complete_data['passed_course'] = (complete_data['correct'] > 40).astype('int')"
   ]
  },
  {
   "cell_type": "code",
   "execution_count": 171,
   "id": "f6e9bc1e-996d-487a-ac5e-12dda8f71eb5",
   "metadata": {},
   "outputs": [
    {
     "data": {
      "text/html": [
       "<div>\n",
       "<style scoped>\n",
       "    .dataframe tbody tr th:only-of-type {\n",
       "        vertical-align: middle;\n",
       "    }\n",
       "\n",
       "    .dataframe tbody tr th {\n",
       "        vertical-align: top;\n",
       "    }\n",
       "\n",
       "    .dataframe thead th {\n",
       "        text-align: right;\n",
       "    }\n",
       "</style>\n",
       "<table border=\"1\" class=\"dataframe\">\n",
       "  <thead>\n",
       "    <tr style=\"text-align: right;\">\n",
       "      <th></th>\n",
       "      <th>discovered</th>\n",
       "      <th>passed</th>\n",
       "      <th>started_attempt</th>\n",
       "      <th>viewed</th>\n",
       "      <th>correct</th>\n",
       "      <th>wrong</th>\n",
       "      <th>correct_ratio</th>\n",
       "      <th>passed_course</th>\n",
       "    </tr>\n",
       "    <tr>\n",
       "      <th>user_id</th>\n",
       "      <th></th>\n",
       "      <th></th>\n",
       "      <th></th>\n",
       "      <th></th>\n",
       "      <th></th>\n",
       "      <th></th>\n",
       "      <th></th>\n",
       "      <th></th>\n",
       "    </tr>\n",
       "  </thead>\n",
       "  <tbody>\n",
       "    <tr>\n",
       "      <th>1</th>\n",
       "      <td>1.0</td>\n",
       "      <td>0.0</td>\n",
       "      <td>0.0</td>\n",
       "      <td>1.0</td>\n",
       "      <td>0.0</td>\n",
       "      <td>0.0</td>\n",
       "      <td>0.000000</td>\n",
       "      <td>0</td>\n",
       "    </tr>\n",
       "    <tr>\n",
       "      <th>2</th>\n",
       "      <td>9.0</td>\n",
       "      <td>9.0</td>\n",
       "      <td>2.0</td>\n",
       "      <td>10.0</td>\n",
       "      <td>2.0</td>\n",
       "      <td>0.0</td>\n",
       "      <td>1.000000</td>\n",
       "      <td>0</td>\n",
       "    </tr>\n",
       "    <tr>\n",
       "      <th>3</th>\n",
       "      <td>91.0</td>\n",
       "      <td>87.0</td>\n",
       "      <td>30.0</td>\n",
       "      <td>192.0</td>\n",
       "      <td>29.0</td>\n",
       "      <td>23.0</td>\n",
       "      <td>0.557692</td>\n",
       "      <td>0</td>\n",
       "    </tr>\n",
       "    <tr>\n",
       "      <th>5</th>\n",
       "      <td>11.0</td>\n",
       "      <td>11.0</td>\n",
       "      <td>4.0</td>\n",
       "      <td>12.0</td>\n",
       "      <td>2.0</td>\n",
       "      <td>2.0</td>\n",
       "      <td>0.500000</td>\n",
       "      <td>0</td>\n",
       "    </tr>\n",
       "    <tr>\n",
       "      <th>7</th>\n",
       "      <td>1.0</td>\n",
       "      <td>1.0</td>\n",
       "      <td>0.0</td>\n",
       "      <td>1.0</td>\n",
       "      <td>0.0</td>\n",
       "      <td>0.0</td>\n",
       "      <td>0.000000</td>\n",
       "      <td>0</td>\n",
       "    </tr>\n",
       "  </tbody>\n",
       "</table>\n",
       "</div>"
      ],
      "text/plain": [
       "         discovered  passed  started_attempt  viewed  correct  wrong  \\\n",
       "user_id                                                                \n",
       "1               1.0     0.0              0.0     1.0      0.0    0.0   \n",
       "2               9.0     9.0              2.0    10.0      2.0    0.0   \n",
       "3              91.0    87.0             30.0   192.0     29.0   23.0   \n",
       "5              11.0    11.0              4.0    12.0      2.0    2.0   \n",
       "7               1.0     1.0              0.0     1.0      0.0    0.0   \n",
       "\n",
       "         correct_ratio  passed_course  \n",
       "user_id                                \n",
       "1             0.000000              0  \n",
       "2             1.000000              0  \n",
       "3             0.557692              0  \n",
       "5             0.500000              0  \n",
       "7             0.000000              0  "
      ]
     },
     "execution_count": 171,
     "metadata": {},
     "output_type": "execute_result"
    }
   ],
   "source": [
    "complete_data.head()"
   ]
  },
  {
   "cell_type": "markdown",
   "id": "dddbcec1-c00c-430a-9481-92ff8b3c7845",
   "metadata": {},
   "source": [
    "Наша таблица для тренировки модели почти готова! Осталось только для каждого пользователя выбрать те записи, которые отображают прогресс пользователя за первые 2 дня прохождения курса.\n",
    "\n",
    "Для этого в исходных таблицах найдем первый, минимальный таймстэмп пользователя, затем прибавим к нему 2 дня (48\\*60\\*60 секунд), и возьмем те записи, которые будут принадлежать этому временному промежутку:"
   ]
  },
  {
   "cell_type": "code",
   "execution_count": 154,
   "id": "0fb793b6-ad6d-4fe7-98eb-0ee033f4005f",
   "metadata": {},
   "outputs": [],
   "source": [
    "events_min_max_time = pd.DataFrame(events_data.groupby('user_id').\n",
    "                                   timestamp.min()). \\\n",
    "                                   rename(columns={'timestamp': 'min_time'})\n",
    "\n",
    "events_min_max_time['max_time'] = events_min_max_time.min_time + 48*60*60\n",
    "events_data = events_data.join(events_min_max_time, on='user_id')\n",
    "\n",
    "submissions_min_max_time = pd.DataFrame(submissions_data.groupby('user_id').\n",
    "                                        timestamp.min()). \\\n",
    "                                        rename(columns={'timestamp': 'min_time'})\n",
    "    \n",
    "submissions_min_max_time['max_time'] = submissions_min_max_time.min_time + 48*60*60\n",
    "submissions_data = submissions_data.join(submissions_min_max_time, on='user_id')\n",
    "\n",
    "events_2days = events_data.loc[events_data.timestamp <= events_data.max_time]\n",
    "submissions_2days = submissions_data.loc[submissions_data.timestamp <= \n",
    "                                         submissions_data.max_time]"
   ]
  },
  {
   "cell_type": "markdown",
   "id": "2159c3cb-b08c-4521-927d-e925f01f8cc0",
   "metadata": {},
   "source": [
    "Мы извлекли нужные записи - теперь нужно привести их к такому же виду, к какому мы привели исходные таблицы:"
   ]
  },
  {
   "cell_type": "code",
   "execution_count": 155,
   "id": "599cbbe9-efe6-4fd5-afdb-3f2885c79135",
   "metadata": {},
   "outputs": [],
   "source": [
    "events_2days = events_2days.drop(['min_time', 'max_time'], axis=1)\n",
    "submissions_2days = submissions_2days.drop(['min_time', 'max_time'], axis=1)\n",
    "\n",
    "action_count_2days = events_2days.pivot_table(values='action', \n",
    "                                              index='user_id', \n",
    "                                              columns='action', \n",
    "                                              aggfunc='count').fillna(0)\n",
    "\n",
    "submissions_count_2days = submissions_2days.pivot_table(values='submission_status', \n",
    "                                                        index='user_id',\n",
    "                                                        columns='submission_status', \n",
    "                                                        aggfunc='count').fillna(0)\n",
    "\n",
    "submissions_count_2days['correct_ratio'] = submissions_count_2days.correct / \\\n",
    "                                           (submissions_count_2days.correct + \n",
    "                                            submissions_count_2days.wrong)\n",
    "\n",
    "data_2days = action_count_2days.join(submissions_count_2days, \n",
    "                                     on='user_id', how='outer').fillna(0)"
   ]
  },
  {
   "cell_type": "markdown",
   "id": "37bc474b-8405-450b-9b97-4de2a7484b60",
   "metadata": {},
   "source": [
    "И финальный шаг: добавим к двухдневной таблице колонку \"из будущего\" - прошел ли пользователь в итоге курс или нет. Это колонка *passed_course*, которую мы вычислили на основе полных данных."
   ]
  },
  {
   "cell_type": "code",
   "execution_count": 156,
   "id": "e7c3e03a-2f05-49ee-8e84-869233655bd5",
   "metadata": {},
   "outputs": [],
   "source": [
    "data_2days = data_2days.join(complete_data.passed_course, on='user_id')"
   ]
  },
  {
   "cell_type": "code",
   "execution_count": 157,
   "id": "54ba6138-41d5-4635-beb1-58b8aa53540a",
   "metadata": {},
   "outputs": [
    {
     "data": {
      "text/html": [
       "<div>\n",
       "<style scoped>\n",
       "    .dataframe tbody tr th:only-of-type {\n",
       "        vertical-align: middle;\n",
       "    }\n",
       "\n",
       "    .dataframe tbody tr th {\n",
       "        vertical-align: top;\n",
       "    }\n",
       "\n",
       "    .dataframe thead th {\n",
       "        text-align: right;\n",
       "    }\n",
       "</style>\n",
       "<table border=\"1\" class=\"dataframe\">\n",
       "  <thead>\n",
       "    <tr style=\"text-align: right;\">\n",
       "      <th></th>\n",
       "      <th>discovered</th>\n",
       "      <th>passed</th>\n",
       "      <th>started_attempt</th>\n",
       "      <th>viewed</th>\n",
       "      <th>correct</th>\n",
       "      <th>wrong</th>\n",
       "      <th>correct_ratio</th>\n",
       "      <th>passed_course</th>\n",
       "    </tr>\n",
       "    <tr>\n",
       "      <th>user_id</th>\n",
       "      <th></th>\n",
       "      <th></th>\n",
       "      <th></th>\n",
       "      <th></th>\n",
       "      <th></th>\n",
       "      <th></th>\n",
       "      <th></th>\n",
       "      <th></th>\n",
       "    </tr>\n",
       "  </thead>\n",
       "  <tbody>\n",
       "    <tr>\n",
       "      <th>1</th>\n",
       "      <td>1.0</td>\n",
       "      <td>0.0</td>\n",
       "      <td>0.0</td>\n",
       "      <td>1.0</td>\n",
       "      <td>0.0</td>\n",
       "      <td>0.0</td>\n",
       "      <td>0.0</td>\n",
       "      <td>0</td>\n",
       "    </tr>\n",
       "    <tr>\n",
       "      <th>2</th>\n",
       "      <td>9.0</td>\n",
       "      <td>9.0</td>\n",
       "      <td>2.0</td>\n",
       "      <td>9.0</td>\n",
       "      <td>2.0</td>\n",
       "      <td>0.0</td>\n",
       "      <td>1.0</td>\n",
       "      <td>0</td>\n",
       "    </tr>\n",
       "    <tr>\n",
       "      <th>3</th>\n",
       "      <td>15.0</td>\n",
       "      <td>15.0</td>\n",
       "      <td>4.0</td>\n",
       "      <td>20.0</td>\n",
       "      <td>4.0</td>\n",
       "      <td>4.0</td>\n",
       "      <td>0.5</td>\n",
       "      <td>0</td>\n",
       "    </tr>\n",
       "    <tr>\n",
       "      <th>5</th>\n",
       "      <td>1.0</td>\n",
       "      <td>1.0</td>\n",
       "      <td>0.0</td>\n",
       "      <td>1.0</td>\n",
       "      <td>2.0</td>\n",
       "      <td>2.0</td>\n",
       "      <td>0.5</td>\n",
       "      <td>0</td>\n",
       "    </tr>\n",
       "    <tr>\n",
       "      <th>7</th>\n",
       "      <td>1.0</td>\n",
       "      <td>1.0</td>\n",
       "      <td>0.0</td>\n",
       "      <td>1.0</td>\n",
       "      <td>0.0</td>\n",
       "      <td>0.0</td>\n",
       "      <td>0.0</td>\n",
       "      <td>0</td>\n",
       "    </tr>\n",
       "  </tbody>\n",
       "</table>\n",
       "</div>"
      ],
      "text/plain": [
       "         discovered  passed  started_attempt  viewed  correct  wrong  \\\n",
       "user_id                                                                \n",
       "1               1.0     0.0              0.0     1.0      0.0    0.0   \n",
       "2               9.0     9.0              2.0     9.0      2.0    0.0   \n",
       "3              15.0    15.0              4.0    20.0      4.0    4.0   \n",
       "5               1.0     1.0              0.0     1.0      2.0    2.0   \n",
       "7               1.0     1.0              0.0     1.0      0.0    0.0   \n",
       "\n",
       "         correct_ratio  passed_course  \n",
       "user_id                                \n",
       "1                  0.0              0  \n",
       "2                  1.0              0  \n",
       "3                  0.5              0  \n",
       "5                  0.5              0  \n",
       "7                  0.0              0  "
      ]
     },
     "execution_count": 157,
     "metadata": {},
     "output_type": "execute_result"
    }
   ],
   "source": [
    "data_2days.head()"
   ]
  },
  {
   "cell_type": "markdown",
   "id": "6dc1a8f2-4122-4451-b911-9f60e64e93ac",
   "metadata": {},
   "source": [
    "Прекрасно! Теперь у нас есть таблица, в которой отслеживается прогресс пользователя за первые два дня прохождения курса, но также в этой таблице есть информация о том, прошел ли пользователь в итоге курс или нет.\n",
    "\n",
    "На такой таблице мы и будем обучать нашу модель. Сохраним наши обработанные данные в CSV формате и перейдем к следующему шагу."
   ]
  },
  {
   "cell_type": "code",
   "execution_count": 158,
   "id": "8e5b112f-a220-4407-9eae-0ba17f7d008f",
   "metadata": {},
   "outputs": [],
   "source": [
    "data_2days.to_csv('datasets/ML_Contest_train.csv')"
   ]
  },
  {
   "cell_type": "markdown",
   "id": "9bbe0bde-f7b3-43a9-9290-6ff78f4c342d",
   "metadata": {},
   "source": [
    "# Подготовка тестового датасета "
   ]
  },
  {
   "cell_type": "markdown",
   "id": "d8db4274-6f6b-4b12-964c-ad1d6afdf12a",
   "metadata": {},
   "source": [
    "Загрузим наши тестовые данные - те данные, на основе которых и нужно предсказать, получит ли пользователь заветный сертификат."
   ]
  },
  {
   "cell_type": "code",
   "execution_count": 159,
   "id": "e06daa55-f067-4de1-883a-4213fb93c60b",
   "metadata": {},
   "outputs": [],
   "source": [
    "events_data_test = pd.read_csv('datasets/events_data_test.csv')\n",
    "submissions_data_test = pd.read_csv('datasets/submission_data_test.csv')"
   ]
  },
  {
   "cell_type": "code",
   "execution_count": 160,
   "id": "016d6c26-523a-4249-8841-eebac3205503",
   "metadata": {},
   "outputs": [
    {
     "data": {
      "text/html": [
       "<div>\n",
       "<style scoped>\n",
       "    .dataframe tbody tr th:only-of-type {\n",
       "        vertical-align: middle;\n",
       "    }\n",
       "\n",
       "    .dataframe tbody tr th {\n",
       "        vertical-align: top;\n",
       "    }\n",
       "\n",
       "    .dataframe thead th {\n",
       "        text-align: right;\n",
       "    }\n",
       "</style>\n",
       "<table border=\"1\" class=\"dataframe\">\n",
       "  <thead>\n",
       "    <tr style=\"text-align: right;\">\n",
       "      <th></th>\n",
       "      <th>step_id</th>\n",
       "      <th>timestamp</th>\n",
       "      <th>action</th>\n",
       "      <th>user_id</th>\n",
       "    </tr>\n",
       "  </thead>\n",
       "  <tbody>\n",
       "    <tr>\n",
       "      <th>0</th>\n",
       "      <td>30456</td>\n",
       "      <td>1526893787</td>\n",
       "      <td>viewed</td>\n",
       "      <td>24417</td>\n",
       "    </tr>\n",
       "    <tr>\n",
       "      <th>1</th>\n",
       "      <td>30456</td>\n",
       "      <td>1526893797</td>\n",
       "      <td>viewed</td>\n",
       "      <td>24417</td>\n",
       "    </tr>\n",
       "    <tr>\n",
       "      <th>2</th>\n",
       "      <td>30456</td>\n",
       "      <td>1526893954</td>\n",
       "      <td>viewed</td>\n",
       "      <td>24417</td>\n",
       "    </tr>\n",
       "    <tr>\n",
       "      <th>3</th>\n",
       "      <td>30456</td>\n",
       "      <td>1526895780</td>\n",
       "      <td>viewed</td>\n",
       "      <td>24417</td>\n",
       "    </tr>\n",
       "    <tr>\n",
       "      <th>4</th>\n",
       "      <td>30456</td>\n",
       "      <td>1526893787</td>\n",
       "      <td>discovered</td>\n",
       "      <td>24417</td>\n",
       "    </tr>\n",
       "  </tbody>\n",
       "</table>\n",
       "</div>"
      ],
      "text/plain": [
       "   step_id   timestamp      action  user_id\n",
       "0    30456  1526893787      viewed    24417\n",
       "1    30456  1526893797      viewed    24417\n",
       "2    30456  1526893954      viewed    24417\n",
       "3    30456  1526895780      viewed    24417\n",
       "4    30456  1526893787  discovered    24417"
      ]
     },
     "execution_count": 160,
     "metadata": {},
     "output_type": "execute_result"
    }
   ],
   "source": [
    "events_data_test.head()"
   ]
  },
  {
   "cell_type": "code",
   "execution_count": 161,
   "id": "fc769dec-d44d-40eb-beae-1cf56a8090dd",
   "metadata": {},
   "outputs": [
    {
     "data": {
      "text/html": [
       "<div>\n",
       "<style scoped>\n",
       "    .dataframe tbody tr th:only-of-type {\n",
       "        vertical-align: middle;\n",
       "    }\n",
       "\n",
       "    .dataframe tbody tr th {\n",
       "        vertical-align: top;\n",
       "    }\n",
       "\n",
       "    .dataframe thead th {\n",
       "        text-align: right;\n",
       "    }\n",
       "</style>\n",
       "<table border=\"1\" class=\"dataframe\">\n",
       "  <thead>\n",
       "    <tr style=\"text-align: right;\">\n",
       "      <th></th>\n",
       "      <th>step_id</th>\n",
       "      <th>timestamp</th>\n",
       "      <th>submission_status</th>\n",
       "      <th>user_id</th>\n",
       "    </tr>\n",
       "  </thead>\n",
       "  <tbody>\n",
       "    <tr>\n",
       "      <th>0</th>\n",
       "      <td>31971</td>\n",
       "      <td>1526800961</td>\n",
       "      <td>wrong</td>\n",
       "      <td>24370</td>\n",
       "    </tr>\n",
       "    <tr>\n",
       "      <th>1</th>\n",
       "      <td>31971</td>\n",
       "      <td>1526800976</td>\n",
       "      <td>wrong</td>\n",
       "      <td>24370</td>\n",
       "    </tr>\n",
       "    <tr>\n",
       "      <th>2</th>\n",
       "      <td>31971</td>\n",
       "      <td>1526800993</td>\n",
       "      <td>wrong</td>\n",
       "      <td>24370</td>\n",
       "    </tr>\n",
       "    <tr>\n",
       "      <th>3</th>\n",
       "      <td>31971</td>\n",
       "      <td>1526801054</td>\n",
       "      <td>correct</td>\n",
       "      <td>24370</td>\n",
       "    </tr>\n",
       "    <tr>\n",
       "      <th>4</th>\n",
       "      <td>31972</td>\n",
       "      <td>1526800664</td>\n",
       "      <td>wrong</td>\n",
       "      <td>24370</td>\n",
       "    </tr>\n",
       "  </tbody>\n",
       "</table>\n",
       "</div>"
      ],
      "text/plain": [
       "   step_id   timestamp submission_status  user_id\n",
       "0    31971  1526800961             wrong    24370\n",
       "1    31971  1526800976             wrong    24370\n",
       "2    31971  1526800993             wrong    24370\n",
       "3    31971  1526801054           correct    24370\n",
       "4    31972  1526800664             wrong    24370"
      ]
     },
     "execution_count": 161,
     "metadata": {},
     "output_type": "execute_result"
    }
   ],
   "source": [
    "submissions_data_test.head()"
   ]
  },
  {
   "cell_type": "markdown",
   "id": "9c626878-7e76-467b-9686-b136c33aaf14",
   "metadata": {},
   "source": [
    "Эти данные записаны в таком же сыром виде, как и сырые данные для нашей тренировочной модели. Поэтому проведем для них те же операции, чтобы привести к нужному формату:"
   ]
  },
  {
   "cell_type": "code",
   "execution_count": 162,
   "id": "9b81665c-5f0d-4f6b-839d-705f30721303",
   "metadata": {},
   "outputs": [],
   "source": [
    "events_data_test = events_data_test.drop('step_id', axis=1)\n",
    "submissions_data_test = submissions_data_test.drop('step_id', axis=1)\n",
    "\n",
    "action_count_test = events_data_test.pivot_table(values='action', \n",
    "                                                 index='user_id',\n",
    "                                                 columns='action', \n",
    "                                                 aggfunc='count').fillna(0)\n",
    "\n",
    "submissions_count_test = submissions_data_test.pivot_table(values='submission_status', \n",
    "                                                           index='user_id',\n",
    "                                                           columns='submission_status', \n",
    "                                                           aggfunc='count').fillna(0)\n",
    "\n",
    "submissions_count_test['correct_ratio'] = submissions_count_test.correct / \\\n",
    "                                         (submissions_count_test.correct + \n",
    "                                          submissions_count_test.wrong)\n",
    "\n",
    "complete_data_test = action_count_test.join(submissions_count_test, \n",
    "                                            on='user_id', how='outer').fillna(0)"
   ]
  },
  {
   "cell_type": "code",
   "execution_count": 170,
   "id": "445d7edd-b3c1-4300-a7ef-6cf34b3314eb",
   "metadata": {},
   "outputs": [
    {
     "data": {
      "text/html": [
       "<div>\n",
       "<style scoped>\n",
       "    .dataframe tbody tr th:only-of-type {\n",
       "        vertical-align: middle;\n",
       "    }\n",
       "\n",
       "    .dataframe tbody tr th {\n",
       "        vertical-align: top;\n",
       "    }\n",
       "\n",
       "    .dataframe thead th {\n",
       "        text-align: right;\n",
       "    }\n",
       "</style>\n",
       "<table border=\"1\" class=\"dataframe\">\n",
       "  <thead>\n",
       "    <tr style=\"text-align: right;\">\n",
       "      <th></th>\n",
       "      <th>discovered</th>\n",
       "      <th>passed</th>\n",
       "      <th>started_attempt</th>\n",
       "      <th>viewed</th>\n",
       "      <th>correct</th>\n",
       "      <th>wrong</th>\n",
       "      <th>correct_ratio</th>\n",
       "    </tr>\n",
       "    <tr>\n",
       "      <th>user_id</th>\n",
       "      <th></th>\n",
       "      <th></th>\n",
       "      <th></th>\n",
       "      <th></th>\n",
       "      <th></th>\n",
       "      <th></th>\n",
       "      <th></th>\n",
       "    </tr>\n",
       "  </thead>\n",
       "  <tbody>\n",
       "    <tr>\n",
       "      <th>4</th>\n",
       "      <td>1.0</td>\n",
       "      <td>1.0</td>\n",
       "      <td>0.0</td>\n",
       "      <td>1.0</td>\n",
       "      <td>0.0</td>\n",
       "      <td>0.0</td>\n",
       "      <td>0.000000</td>\n",
       "    </tr>\n",
       "    <tr>\n",
       "      <th>6</th>\n",
       "      <td>1.0</td>\n",
       "      <td>1.0</td>\n",
       "      <td>0.0</td>\n",
       "      <td>1.0</td>\n",
       "      <td>0.0</td>\n",
       "      <td>0.0</td>\n",
       "      <td>0.000000</td>\n",
       "    </tr>\n",
       "    <tr>\n",
       "      <th>10</th>\n",
       "      <td>2.0</td>\n",
       "      <td>2.0</td>\n",
       "      <td>0.0</td>\n",
       "      <td>6.0</td>\n",
       "      <td>0.0</td>\n",
       "      <td>0.0</td>\n",
       "      <td>0.000000</td>\n",
       "    </tr>\n",
       "    <tr>\n",
       "      <th>12</th>\n",
       "      <td>11.0</td>\n",
       "      <td>9.0</td>\n",
       "      <td>4.0</td>\n",
       "      <td>14.0</td>\n",
       "      <td>1.0</td>\n",
       "      <td>0.0</td>\n",
       "      <td>1.000000</td>\n",
       "    </tr>\n",
       "    <tr>\n",
       "      <th>13</th>\n",
       "      <td>70.0</td>\n",
       "      <td>70.0</td>\n",
       "      <td>35.0</td>\n",
       "      <td>105.0</td>\n",
       "      <td>29.0</td>\n",
       "      <td>36.0</td>\n",
       "      <td>0.446154</td>\n",
       "    </tr>\n",
       "  </tbody>\n",
       "</table>\n",
       "</div>"
      ],
      "text/plain": [
       "         discovered  passed  started_attempt  viewed  correct  wrong  \\\n",
       "user_id                                                                \n",
       "4               1.0     1.0              0.0     1.0      0.0    0.0   \n",
       "6               1.0     1.0              0.0     1.0      0.0    0.0   \n",
       "10              2.0     2.0              0.0     6.0      0.0    0.0   \n",
       "12             11.0     9.0              4.0    14.0      1.0    0.0   \n",
       "13             70.0    70.0             35.0   105.0     29.0   36.0   \n",
       "\n",
       "         correct_ratio  \n",
       "user_id                 \n",
       "4             0.000000  \n",
       "6             0.000000  \n",
       "10            0.000000  \n",
       "12            1.000000  \n",
       "13            0.446154  "
      ]
     },
     "execution_count": 170,
     "metadata": {},
     "output_type": "execute_result"
    }
   ],
   "source": [
    "complete_data_test.head()"
   ]
  },
  {
   "cell_type": "markdown",
   "id": "660f5b49-7b37-444d-87ca-06b63c1a69cb",
   "metadata": {},
   "source": [
    "# Обучение модели\n",
    "\n",
    "Настало время машинного обучения! Импортируем Random Forest и RandomizedSearchCV из библиотеки Scikit-learn:"
   ]
  },
  {
   "cell_type": "code",
   "execution_count": 164,
   "id": "812c8d1b-274d-4734-af7e-a13b6d3354ac",
   "metadata": {},
   "outputs": [],
   "source": [
    "from sklearn.ensemble import RandomForestClassifier\n",
    "from sklearn.model_selection import GridSearchCV"
   ]
  },
  {
   "cell_type": "markdown",
   "id": "e2101a9a-b038-4322-9f30-656c626b1a3c",
   "metadata": {},
   "source": [
    "Загрузим наш тренировочный датасет: обозначим зависимую переменную *passed_course* как y, а все независимые переменные как X."
   ]
  },
  {
   "cell_type": "code",
   "execution_count": 165,
   "id": "39541367-3c82-471f-89ee-96ceda123758",
   "metadata": {},
   "outputs": [],
   "source": [
    "train_dataset = pd.read_csv('datasets/ML_Contest_train.csv', index_col='user_id')\n",
    "X = train_dataset.drop('passed_course', axis=1)\n",
    "y = train_dataset.passed_course"
   ]
  },
  {
   "cell_type": "markdown",
   "id": "7728691f-570a-40b9-aa4e-4c01e66d16e2",
   "metadata": {},
   "source": [
    "Потренируем разные Random Forest и выберем из них лучший с помощью RandomizedSearchCV:"
   ]
  },
  {
   "cell_type": "code",
   "execution_count": 172,
   "id": "a0dbfb60-2c1f-4f12-a7b6-464723ee75a0",
   "metadata": {},
   "outputs": [
    {
     "data": {
      "text/html": [
       "<style>#sk-container-id-7 {color: black;background-color: white;}#sk-container-id-7 pre{padding: 0;}#sk-container-id-7 div.sk-toggleable {background-color: white;}#sk-container-id-7 label.sk-toggleable__label {cursor: pointer;display: block;width: 100%;margin-bottom: 0;padding: 0.3em;box-sizing: border-box;text-align: center;}#sk-container-id-7 label.sk-toggleable__label-arrow:before {content: \"▸\";float: left;margin-right: 0.25em;color: #696969;}#sk-container-id-7 label.sk-toggleable__label-arrow:hover:before {color: black;}#sk-container-id-7 div.sk-estimator:hover label.sk-toggleable__label-arrow:before {color: black;}#sk-container-id-7 div.sk-toggleable__content {max-height: 0;max-width: 0;overflow: hidden;text-align: left;background-color: #f0f8ff;}#sk-container-id-7 div.sk-toggleable__content pre {margin: 0.2em;color: black;border-radius: 0.25em;background-color: #f0f8ff;}#sk-container-id-7 input.sk-toggleable__control:checked~div.sk-toggleable__content {max-height: 200px;max-width: 100%;overflow: auto;}#sk-container-id-7 input.sk-toggleable__control:checked~label.sk-toggleable__label-arrow:before {content: \"▾\";}#sk-container-id-7 div.sk-estimator input.sk-toggleable__control:checked~label.sk-toggleable__label {background-color: #d4ebff;}#sk-container-id-7 div.sk-label input.sk-toggleable__control:checked~label.sk-toggleable__label {background-color: #d4ebff;}#sk-container-id-7 input.sk-hidden--visually {border: 0;clip: rect(1px 1px 1px 1px);clip: rect(1px, 1px, 1px, 1px);height: 1px;margin: -1px;overflow: hidden;padding: 0;position: absolute;width: 1px;}#sk-container-id-7 div.sk-estimator {font-family: monospace;background-color: #f0f8ff;border: 1px dotted black;border-radius: 0.25em;box-sizing: border-box;margin-bottom: 0.5em;}#sk-container-id-7 div.sk-estimator:hover {background-color: #d4ebff;}#sk-container-id-7 div.sk-parallel-item::after {content: \"\";width: 100%;border-bottom: 1px solid gray;flex-grow: 1;}#sk-container-id-7 div.sk-label:hover label.sk-toggleable__label {background-color: #d4ebff;}#sk-container-id-7 div.sk-serial::before {content: \"\";position: absolute;border-left: 1px solid gray;box-sizing: border-box;top: 0;bottom: 0;left: 50%;z-index: 0;}#sk-container-id-7 div.sk-serial {display: flex;flex-direction: column;align-items: center;background-color: white;padding-right: 0.2em;padding-left: 0.2em;position: relative;}#sk-container-id-7 div.sk-item {position: relative;z-index: 1;}#sk-container-id-7 div.sk-parallel {display: flex;align-items: stretch;justify-content: center;background-color: white;position: relative;}#sk-container-id-7 div.sk-item::before, #sk-container-id-7 div.sk-parallel-item::before {content: \"\";position: absolute;border-left: 1px solid gray;box-sizing: border-box;top: 0;bottom: 0;left: 50%;z-index: -1;}#sk-container-id-7 div.sk-parallel-item {display: flex;flex-direction: column;z-index: 1;position: relative;background-color: white;}#sk-container-id-7 div.sk-parallel-item:first-child::after {align-self: flex-end;width: 50%;}#sk-container-id-7 div.sk-parallel-item:last-child::after {align-self: flex-start;width: 50%;}#sk-container-id-7 div.sk-parallel-item:only-child::after {width: 0;}#sk-container-id-7 div.sk-dashed-wrapped {border: 1px dashed gray;margin: 0 0.4em 0.5em 0.4em;box-sizing: border-box;padding-bottom: 0.4em;background-color: white;}#sk-container-id-7 div.sk-label label {font-family: monospace;font-weight: bold;display: inline-block;line-height: 1.2em;}#sk-container-id-7 div.sk-label-container {text-align: center;}#sk-container-id-7 div.sk-container {/* jupyter's `normalize.less` sets `[hidden] { display: none; }` but bootstrap.min.css set `[hidden] { display: none !important; }` so we also need the `!important` here to be able to override the default hidden behavior on the sphinx rendered scikit-learn.org. See: https://github.com/scikit-learn/scikit-learn/issues/21755 */display: inline-block !important;position: relative;}#sk-container-id-7 div.sk-text-repr-fallback {display: none;}</style><div id=\"sk-container-id-7\" class=\"sk-top-container\"><div class=\"sk-text-repr-fallback\"><pre>RandomForestClassifier(criterion=&#x27;entropy&#x27;, max_depth=7, min_samples_leaf=4,\n",
       "                       min_samples_split=46, n_estimators=111)</pre><b>In a Jupyter environment, please rerun this cell to show the HTML representation or trust the notebook. <br />On GitHub, the HTML representation is unable to render, please try loading this page with nbviewer.org.</b></div><div class=\"sk-container\" hidden><div class=\"sk-item\"><div class=\"sk-estimator sk-toggleable\"><input class=\"sk-toggleable__control sk-hidden--visually\" id=\"sk-estimator-id-7\" type=\"checkbox\" checked><label for=\"sk-estimator-id-7\" class=\"sk-toggleable__label sk-toggleable__label-arrow\">RandomForestClassifier</label><div class=\"sk-toggleable__content\"><pre>RandomForestClassifier(criterion=&#x27;entropy&#x27;, max_depth=7, min_samples_leaf=4,\n",
       "                       min_samples_split=46, n_estimators=111)</pre></div></div></div></div></div>"
      ],
      "text/plain": [
       "RandomForestClassifier(criterion='entropy', max_depth=7, min_samples_leaf=4,\n",
       "                       min_samples_split=46, n_estimators=111)"
      ]
     },
     "execution_count": 172,
     "metadata": {},
     "output_type": "execute_result"
    }
   ],
   "source": [
    "clf = RandomForestClassifier()\n",
    "params = {\n",
    "    'n_estimators': range(50, 200),\n",
    "    'criterion': ['gini', 'entropy'],\n",
    "    'max_depth': range(1, 10),\n",
    "    'min_samples_split': range(2, 100),\n",
    "    'min_samples_leaf': range(1, 50)\n",
    "}\n",
    "\n",
    "search = RandomizedSearchCV(clf, params, n_iter=100, n_jobs=-1)\n",
    "search.fit(X, y)\n",
    "best_tree = search.best_estimator_\n",
    "best_tree"
   ]
  },
  {
   "cell_type": "markdown",
   "id": "b423a220-3924-46e9-bfbf-06e68d9a79bd",
   "metadata": {},
   "source": [
    "Все готово! Давайте предскажем вероятность того, что пользователь успешно закончит курс!"
   ]
  },
  {
   "cell_type": "code",
   "execution_count": 173,
   "id": "bd647378-d15f-474e-865a-f6fd174a1703",
   "metadata": {},
   "outputs": [],
   "source": [
    "predict = best_tree.predict_proba(complete_data_test)[:, 1]"
   ]
  },
  {
   "cell_type": "markdown",
   "id": "bbad380f-a0dd-4786-83b8-858b0260d15f",
   "metadata": {},
   "source": [
    "Результатом работы нашей программы должен стать файл, в котором указан id юзера и соответствующая ему вероятность завершения курса:"
   ]
  },
  {
   "cell_type": "code",
   "execution_count": 174,
   "id": "a5831e4c-c4ed-4520-86d6-8f8ff4e0775f",
   "metadata": {},
   "outputs": [],
   "source": [
    "result = pd.Series(predict, index=complete_data_test.reset_index().user_id, \n",
    "                   name='is_gone')\n",
    "\n",
    "result.to_csv('predictions.csv')"
   ]
  },
  {
   "cell_type": "code",
   "execution_count": 175,
   "id": "f6293900-8efd-45ca-9625-ff19b6754573",
   "metadata": {},
   "outputs": [
    {
     "data": {
      "text/plain": [
       "user_id\n",
       "21685    0.890880\n",
       "21444    0.878990\n",
       "7374     0.876534\n",
       "17982    0.869989\n",
       "19796    0.856592\n",
       "           ...   \n",
       "9471     0.000000\n",
       "9490     0.000000\n",
       "9515     0.000000\n",
       "9518     0.000000\n",
       "26800    0.000000\n",
       "Name: is_gone, Length: 6184, dtype: float64"
      ]
     },
     "execution_count": 175,
     "metadata": {},
     "output_type": "execute_result"
    }
   ],
   "source": [
    "result.sort_values(ascending=False)"
   ]
  },
  {
   "cell_type": "markdown",
   "id": "239e9d87-735d-4e45-be78-d8211cfbdfe6",
   "metadata": {},
   "source": [
    "Осталось лишь проверить точность наших предсказаний. Загрузим наш результат в проверочную форму и получим ROC_AUC_SCORE = 0.8888238705469613, что говорит о довольно высокой точности предсказания нашей модели!"
   ]
  },
  {
   "cell_type": "markdown",
   "id": "f6789b2d-18bb-4625-a720-7fa0472c3e8f",
   "metadata": {},
   "source": [
    "![Скриншот результата](result.png)"
   ]
  }
 ],
 "metadata": {
  "kernelspec": {
   "display_name": "Python 3 (ipykernel)",
   "language": "python",
   "name": "python3"
  },
  "language_info": {
   "codemirror_mode": {
    "name": "ipython",
    "version": 3
   },
   "file_extension": ".py",
   "mimetype": "text/x-python",
   "name": "python",
   "nbconvert_exporter": "python",
   "pygments_lexer": "ipython3",
   "version": "3.10.6"
  }
 },
 "nbformat": 4,
 "nbformat_minor": 5
}
